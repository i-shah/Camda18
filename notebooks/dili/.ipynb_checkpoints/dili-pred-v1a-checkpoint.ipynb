{
 "cells": [
  {
   "cell_type": "code",
   "execution_count": 3,
   "metadata": {},
   "outputs": [
    {
     "name": "stdout",
     "output_type": "stream",
     "text": [
      "Populating the interactive namespace from numpy and matplotlib\n"
     ]
    }
   ],
   "source": [
    "# %load ../kiwi.py\n",
    "# %load ../env.py\n",
    "%load_ext autoreload\n",
    "%autoreload 2\n",
    "%pylab inline\n",
    "%matplotlib inline\n",
    "#%load_ext rpy2.ipython\n",
    "\n",
    "import matplotlib.text as text\n",
    "import pandas as pd\n",
    "import numpy as np\n",
    "import pylab as pl\n",
    "import scipy as sp\n",
    "import sys\n",
    "import rpy2 \n",
    "from rpy2.robjects import r, pandas2ri\n",
    "import os \n",
    "from sklearn.metrics.pairwise import euclidean_distances,manhattan_distances,cosine_similarity\n",
    "\n",
    "#Set environment variables\n",
    "\n",
    "\n",
    "# Set up the local source files\n",
    "#TOP = os.getcwd().replace('notebooks','')\n",
    "TOP = \"/home/ishah/ipynb/Camda18/\"\n",
    "\n",
    "LIB = TOP+'lib'\n",
    "if not LIB in sys.path: \n",
    "    sys.path.insert(0,LIB)\n",
    "\n",
    "os.environ['PYTHONPATH']=LIB\n",
    "\n",
    "\n",
    "DAT_DIR = TOP + '/data/'\n",
    "FIG_DIR = TOP + '/figs/'\n",
    "\n",
    "CMAP_DIR= '/share/home/ishah/projects/HTTR/data/'\n",
    "CMAP_DAT= '/mnt/data/CMap/CMap2.0/CEL1/'\n",
    "\n",
    "from db.mongo import *\n",
    "#DB=openMongo(db='httr_ph1',host='pb.epa.gov')\n",
    "#DB1=openMongo(db='httr_v1',host='pb.epa.gov')\n",
    "#MSG=openMongo(db='msigdb_v6',host='pb.epa.gov')\n",
    "#CMP=openMongo(db='cmap_v2',host='localhost')\n",
    "CMP = pymongo.MongoClient(\"mongodb://localhost/cmap_v2\")['cmap_v2']\n",
    "#from gexp.deseq2 import *\n",
    "pd.options.display.max_colwidth = 500\n"
   ]
  },
  {
   "cell_type": "code",
   "execution_count": 78,
   "metadata": {},
   "outputs": [
    {
     "data": {
      "text/plain": [
       "u'pert_id_1'"
      ]
     },
     "execution_count": 78,
     "metadata": {},
     "output_type": "execute_result"
    }
   ],
   "source": [
    "CMP.collection_names()\n",
    "CMP.cmap_fp.create_index('trt_id')\n",
    "CMP.cmap_fp.create_index('pert_id')\n"
   ]
  },
  {
   "cell_type": "code",
   "execution_count": 10,
   "metadata": {},
   "outputs": [
    {
     "data": {
      "text/plain": [
       "[u'fp',\n",
       " u'instance_id',\n",
       " u'scanner',\n",
       " u'gexp_array',\n",
       " u'cell',\n",
       " u'trt_id',\n",
       " u'pert_id',\n",
       " u'conc',\n",
       " u'timeh',\n",
       " u'_id',\n",
       " u'name']"
      ]
     },
     "execution_count": 10,
     "metadata": {},
     "output_type": "execute_result"
    }
   ],
   "source": [
    "CMP.cmap_fp.find_one().keys()"
   ]
  },
  {
   "cell_type": "code",
   "execution_count": 76,
   "metadata": {},
   "outputs": [],
   "source": [
    "def getZVec1(pid,Col,z0,C=['name','cell','pert_id','conc','trt_id']):\n",
    "    # z0 in 1,2,3\n",
    "    fpz='fp_z%d' % z0\n",
    "    X = Col.find_one(dict(pert_id=pid),dict(_id=0))\n",
    "    FP=X['fp'][fpz]\n",
    "    Y = {k:X[k] for k in C}\n",
    "    Y.update({g:+1 for g in FP['up']['ds']})\n",
    "    Y.update({g:-1 for g in FP['dn']['ds']})\n",
    "    \n",
    "    return Y\n"
   ]
  },
  {
   "cell_type": "code",
   "execution_count": 79,
   "metadata": {},
   "outputs": [],
   "source": [
    "C1=['name','cell','pert_id','conc','trt_id']\n",
    "PID= CMP.cmap_dili.distinct('pert_id')\n",
    "Z2 = (pd.DataFrame(map(lambda i: getZVec1(i,CMP.cmap_fp,z0=2,C=C1),PID))\n",
    "      .fillna(0)\n",
    "      .set_index(C1)\n",
    "     )"
   ]
  },
  {
   "cell_type": "code",
   "execution_count": 80,
   "metadata": {},
   "outputs": [
    {
     "data": {
      "text/plain": [
       "(552, 21692)"
      ]
     },
     "execution_count": 80,
     "metadata": {},
     "output_type": "execute_result"
    }
   ],
   "source": [
    "Z2.shape"
   ]
  },
  {
   "cell_type": "code",
   "execution_count": 88,
   "metadata": {},
   "outputs": [
    {
     "data": {
      "text/plain": [
       "(21692,)"
      ]
     },
     "execution_count": 88,
     "metadata": {},
     "output_type": "execute_result"
    }
   ],
   "source": [
    "N2 = Z2.abs().sum()\n",
    "N2.shape"
   ]
  },
  {
   "cell_type": "code",
   "execution_count": 82,
   "metadata": {},
   "outputs": [
    {
     "data": {
      "image/png": "[encoded data removed]",
      "text/plain": [
       "<matplotlib.figure.Figure at 0x7fd6ad1f9950>"
      ]
     },
     "metadata": {},
     "output_type": "display_data"
    }
   ],
   "source": [
    "pl.style.use('dark_background')\n",
    "x = pl.hist(N2,bins=20,rwidth=0.9,cumulative=True,normed=True)"
   ]
  },
  {
   "cell_type": "code",
   "execution_count": 89,
   "metadata": {},
   "outputs": [
    {
     "data": {
      "text/plain": [
       "424"
      ]
     },
     "execution_count": 89,
     "metadata": {},
     "output_type": "execute_result"
    }
   ],
   "source": [
    "(N2>100).sum()"
   ]
  },
  {
   "cell_type": "code",
   "execution_count": 90,
   "metadata": {},
   "outputs": [
    {
     "data": {
      "text/plain": [
       "(552, 3686)"
      ]
     },
     "execution_count": 90,
     "metadata": {},
     "output_type": "execute_result"
    }
   ],
   "source": [
    "Z2a = Z2[N2[N2>50].index]\n",
    "Z2a.shape"
   ]
  },
  {
   "cell_type": "markdown",
   "metadata": {},
   "source": [
    "## Link with Dili info"
   ]
  },
  {
   "cell_type": "code",
   "execution_count": 53,
   "metadata": {},
   "outputs": [],
   "source": [
    "DI0 = pd.DataFrame(list(CMP.cmap_dili.find({},dict(_id=0))))"
   ]
  },
  {
   "cell_type": "code",
   "execution_count": 59,
   "metadata": {},
   "outputs": [],
   "source": [
    "I1 = list(DI0.columns.intersection(Z2.reset_index().columns))"
   ]
  },
  {
   "cell_type": "code",
   "execution_count": 83,
   "metadata": {},
   "outputs": [],
   "source": [
    "Z3 = Z2.reset_index().merge(DI0,left_on=I1,right_on=I1)\\\n",
    "    .set_index(['name', 'cell', 'pert_id', 'conc', 'trt_id',\n",
    "                'data_type','tox'])"
   ]
  },
  {
   "cell_type": "markdown",
   "metadata": {},
   "source": [
    "## MCF7\n"
   ]
  },
  {
   "cell_type": "code",
   "execution_count": 135,
   "metadata": {},
   "outputs": [
    {
     "data": {
      "text/plain": [
       "(552, 15553)"
      ]
     },
     "execution_count": 135,
     "metadata": {},
     "output_type": "execute_result"
    }
   ],
   "source": [
    "Z3a = Z3[N2[N2>10].index]\n",
    "Z3a.shape"
   ]
  },
  {
   "cell_type": "code",
   "execution_count": 136,
   "metadata": {},
   "outputs": [],
   "source": [
    "Train = Z3a.query(\"cell=='MCF7' and data_type=='Training'\")\n",
    "Valid = Z3a.query(\"cell=='MCF7' and data_type=='Validation'\")\n"
   ]
  },
  {
   "cell_type": "code",
   "execution_count": 137,
   "metadata": {},
   "outputs": [],
   "source": [
    "X2 = Train.copy()\n",
    "Y2 = Train.index.get_level_values(6).astype(np.uint)\n",
    "\n"
   ]
  },
  {
   "cell_type": "code",
   "execution_count": 154,
   "metadata": {},
   "outputs": [
    {
     "name": "stdout",
     "output_type": "stream",
     "text": [
      "[t-SNE] Computing 301 nearest neighbors...\n",
      "[t-SNE] Indexed 552 samples in 1.644s...\n",
      "[t-SNE] Computed neighbors for 552 samples in 19.926s...\n",
      "[t-SNE] Computed conditional probabilities for sample 552 / 552\n",
      "[t-SNE] Mean sigma: 7.770578\n",
      "[t-SNE] KL divergence after 250 iterations with early exaggeration: 69.817741\n",
      "[t-SNE] Error after 1000 iterations: 1.467101\n"
     ]
    }
   ],
   "source": [
    "from sklearn.manifold import TSNE\n",
    "tsne = TSNE(n_components=2,perplexity=100.0, random_state=0,verbose=1,learning_rate=10,angle=0.4)\n",
    "XY=tsne.fit_transform(Z3a) \n"
   ]
  },
  {
   "cell_type": "code",
   "execution_count": 157,
   "metadata": {},
   "outputs": [
    {
     "data": {
      "text/plain": [
       "<matplotlib.collections.PathCollection at 0x7fd6adc91690>"
      ]
     },
     "execution_count": 157,
     "metadata": {},
     "output_type": "execute_result"
    },
    {
     "data": {
      "image/png": "[encoded data removed]",
      "text/plain": [
       "<matplotlib.figure.Figure at 0x7fd6acbdee50>"
      ]
     },
     "metadata": {},
     "output_type": "display_data"
    }
   ],
   "source": [
    "X_loc= pd.DataFrame(XY,index=Z3a.index,columns=['x','y'])\n",
    "pl.style.use('dark_background')\n",
    "fig = pl.figure(figsize=(10,10))\n",
    "ax = pl.subplot(1,1,1)\n",
    "ax.scatter(X_loc.x,X_loc.y,c=X_loc.index.get_level_values(6))"
   ]
  },
  {
   "cell_type": "code",
   "execution_count": null,
   "metadata": {},
   "outputs": [],
   "source": [
    "#ax.scatter(XY[:,0],XY[:,1],s=10,lw=0,c='#999999')\n",
    "\n",
    "#xy = X_loc.ix[S1_info.query(\"timeh=='06'\").index]\n",
    "\n",
    "Lc,Lb=[],[]\n",
    "\n",
    "conds = S1_info[['media','timeh']].drop_duplicates().reset_index(drop=True)\n",
    "N = len(conds)+1\n",
    "for k,cnd in enumerate(conds.to_dict('records')):\n",
    "    col = cm.rainbow(1.0*k/N)\n",
    "    xy = X_loc.ix[S1_info.query(\"media=='%(media)s' and timeh=='%(timeh)s'\" % cnd).index]\n",
    "    x=ax.scatter(xy.x,xy.y,s=30,c=col,lw=0,alpha=0.5)\n",
    "    Lb.append(\"%(media)s:%(timeh)s\"%cnd)\n",
    "    Lc.append(x)\n",
    "ax.legend(Lc,Lb)"
   ]
  },
  {
   "cell_type": "markdown",
   "metadata": {},
   "source": [
    "## ML\n"
   ]
  },
  {
   "cell_type": "markdown",
   "metadata": {},
   "source": [
    "### Gradient Boosting"
   ]
  },
  {
   "cell_type": "code",
   "execution_count": 138,
   "metadata": {},
   "outputs": [],
   "source": [
    "from sklearn.ensemble import GradientBoostingClassifier\n",
    "from sklearn.metrics import make_scorer,f1_score,accuracy_score\n",
    "from sklearn.grid_search import GridSearchCV\n",
    "from sklearn.cross_validation import StratifiedKFold\n",
    "\n",
    "GBC0 = GradientBoostingClassifier(loss='exponential')\n",
    "\n",
    "params={'learning_rate': 10**np.linspace(-2,0,num=10),\n",
    "         'max_depth': range(5,10),\n",
    "         'n_estimators': range(5,105,20)\n",
    "       }\n",
    "\n",
    "def my_f1(y_tr,y_pr):\n",
    "    return mean_absolute_error(y_tr,y_pr)\n",
    "\n",
    "f1_scorer = make_scorer(f1_score,greater_is_better=True)\n",
    "ac_scorer = make_scorer(accuracy_score,greater_is_better=True)\n",
    "Grid1= GridSearchCV(estimator=GBC0,param_grid=params,\n",
    "                    n_jobs=30,cv=StratifiedKFold(Y2,n_folds=2),\n",
    "                    verbose=1,\n",
    "                    scoring=ac_scorer)"
   ]
  },
  {
   "cell_type": "code",
   "execution_count": null,
   "metadata": {},
   "outputs": [
    {
     "name": "stdout",
     "output_type": "stream",
     "text": [
      "Fitting 2 folds for each of 250 candidates, totalling 500 fits\n"
     ]
    },
    {
     "name": "stderr",
     "output_type": "stream",
     "text": [
      "[Parallel(n_jobs=30)]: Done 140 tasks      | elapsed:  4.3min\n",
      "[Parallel(n_jobs=30)]: Done 390 tasks      | elapsed: 10.4min\n"
     ]
    }
   ],
   "source": [
    "Best1=Grid1.fit(X2,Y2)"
   ]
  },
  {
   "cell_type": "code",
   "execution_count": 140,
   "metadata": {},
   "outputs": [
    {
     "data": {
      "text/plain": [
       "(0.6894736842105263,\n",
       " {'learning_rate': 0.027825594022071243, 'max_depth': 5, 'n_estimators': 25})"
      ]
     },
     "execution_count": 140,
     "metadata": {},
     "output_type": "execute_result"
    }
   ],
   "source": [
    "Best1.best_score_,Best1.best_params_"
   ]
  },
  {
   "cell_type": "code",
   "execution_count": 141,
   "metadata": {},
   "outputs": [
    {
     "data": {
      "text/plain": [
       "(0.8524590163934427, 0.7631578947368421, 1.0, 0.7428571428571429)"
      ]
     },
     "execution_count": 141,
     "metadata": {},
     "output_type": "execute_result"
    }
   ],
   "source": [
    "from sklearn.metrics import f1_score,accuracy_score,recall_score,precision_score\n",
    "\n",
    "GBC1 = Best1.best_estimator_\n",
    "Y2p = GBC1.predict(X2)\n",
    "\n",
    "f1_score(Y2,Y2p),accuracy_score(Y2,Y2p),recall_score(Y2,Y2p),precision_score(Y2,Y2p)\n"
   ]
  },
  {
   "cell_type": "code",
   "execution_count": 148,
   "metadata": {},
   "outputs": [],
   "source": [
    "Y_pr = pd.DataFrame(GBC1.predict_proba(Valid),columns=['Pr0','Pr1'])\n",
    "Y_pr['Pred_DILI']=GBC1.predict(Valid)\n",
    "Y_pr.index=Valid.index"
   ]
  },
  {
   "cell_type": "code",
   "execution_count": 145,
   "metadata": {},
   "outputs": [],
   "source": [
    "    \n",
    "DILI0 = pd.concat([pd.read_excel(DAT_DIR+'dili-chemicals-1.xlsx',sheet_name=i) for i in range(3)])\n",
    "C = [i.lower().replace(' ','_') for i in DILI0.columns]\n",
    "DILI0.columns=C\n",
    "DILI0['name']=DILI0.name.str.lower()"
   ]
  },
  {
   "cell_type": "code",
   "execution_count": 149,
   "metadata": {},
   "outputs": [],
   "source": [
    "P1 = Y_pr.reset_index().merge(DILI0,left_on='name',right_on='name')"
   ]
  },
  {
   "cell_type": "code",
   "execution_count": 150,
   "metadata": {},
   "outputs": [
    {
     "data": {
      "text/html": [
       "<div>\n",
       "<style scoped>\n",
       "    .dataframe tbody tr th:only-of-type {\n",
       "        vertical-align: middle;\n",
       "    }\n",
       "\n",
       "    .dataframe tbody tr th {\n",
       "        vertical-align: top;\n",
       "    }\n",
       "\n",
       "    .dataframe thead th {\n",
       "        text-align: right;\n",
       "    }\n",
       "</style>\n",
       "<table border=\"1\" class=\"dataframe\">\n",
       "  <thead>\n",
       "    <tr style=\"text-align: right;\">\n",
       "      <th></th>\n",
       "      <th>name</th>\n",
       "      <th>Pred_DILI</th>\n",
       "      <th>Pr0</th>\n",
       "      <th>Pr1</th>\n",
       "      <th>exp_humans</th>\n",
       "    </tr>\n",
       "  </thead>\n",
       "  <tbody>\n",
       "    <tr>\n",
       "      <th>0</th>\n",
       "      <td>acetazolamide</td>\n",
       "      <td>1</td>\n",
       "      <td>0.267709</td>\n",
       "      <td>0.732291</td>\n",
       "      <td>hepatotox</td>\n",
       "    </tr>\n",
       "    <tr>\n",
       "      <th>1</th>\n",
       "      <td>alfuzosin</td>\n",
       "      <td>1</td>\n",
       "      <td>0.247107</td>\n",
       "      <td>0.752893</td>\n",
       "      <td>hepatotox</td>\n",
       "    </tr>\n",
       "    <tr>\n",
       "      <th>2</th>\n",
       "      <td>ampicillin</td>\n",
       "      <td>1</td>\n",
       "      <td>0.233461</td>\n",
       "      <td>0.766539</td>\n",
       "      <td>hepatotox</td>\n",
       "    </tr>\n",
       "    <tr>\n",
       "      <th>3</th>\n",
       "      <td>carisoprodol</td>\n",
       "      <td>1</td>\n",
       "      <td>0.213823</td>\n",
       "      <td>0.786177</td>\n",
       "      <td>non-hepatotox</td>\n",
       "    </tr>\n",
       "    <tr>\n",
       "      <th>4</th>\n",
       "      <td>cefepime</td>\n",
       "      <td>1</td>\n",
       "      <td>0.406406</td>\n",
       "      <td>0.593594</td>\n",
       "      <td>non-hepatotox</td>\n",
       "    </tr>\n",
       "    <tr>\n",
       "      <th>5</th>\n",
       "      <td>ceftazidime</td>\n",
       "      <td>1</td>\n",
       "      <td>0.350857</td>\n",
       "      <td>0.649143</td>\n",
       "      <td>non-hepatotox</td>\n",
       "    </tr>\n",
       "    <tr>\n",
       "      <th>6</th>\n",
       "      <td>chlormezanone</td>\n",
       "      <td>1</td>\n",
       "      <td>0.283020</td>\n",
       "      <td>0.716980</td>\n",
       "      <td>hepatotox</td>\n",
       "    </tr>\n",
       "    <tr>\n",
       "      <th>7</th>\n",
       "      <td>chlorpropamide</td>\n",
       "      <td>1</td>\n",
       "      <td>0.233461</td>\n",
       "      <td>0.766539</td>\n",
       "      <td>hepatotox</td>\n",
       "    </tr>\n",
       "    <tr>\n",
       "      <th>8</th>\n",
       "      <td>chlorzoxazone</td>\n",
       "      <td>1</td>\n",
       "      <td>0.213823</td>\n",
       "      <td>0.786177</td>\n",
       "      <td>hepatotox</td>\n",
       "    </tr>\n",
       "    <tr>\n",
       "      <th>9</th>\n",
       "      <td>dapsone</td>\n",
       "      <td>1</td>\n",
       "      <td>0.268401</td>\n",
       "      <td>0.731599</td>\n",
       "      <td>hepatotox</td>\n",
       "    </tr>\n",
       "    <tr>\n",
       "      <th>10</th>\n",
       "      <td>deferoxamine</td>\n",
       "      <td>1</td>\n",
       "      <td>0.227195</td>\n",
       "      <td>0.772805</td>\n",
       "      <td>hepatotox</td>\n",
       "    </tr>\n",
       "    <tr>\n",
       "      <th>11</th>\n",
       "      <td>disulfiram</td>\n",
       "      <td>1</td>\n",
       "      <td>0.276709</td>\n",
       "      <td>0.723291</td>\n",
       "      <td>hepatotox</td>\n",
       "    </tr>\n",
       "    <tr>\n",
       "      <th>12</th>\n",
       "      <td>finasteride</td>\n",
       "      <td>1</td>\n",
       "      <td>0.241640</td>\n",
       "      <td>0.758360</td>\n",
       "      <td>non-hepatotox</td>\n",
       "    </tr>\n",
       "    <tr>\n",
       "      <th>13</th>\n",
       "      <td>glimepiride</td>\n",
       "      <td>1</td>\n",
       "      <td>0.213823</td>\n",
       "      <td>0.786177</td>\n",
       "      <td>non-hepatotox</td>\n",
       "    </tr>\n",
       "    <tr>\n",
       "      <th>14</th>\n",
       "      <td>hydralazine</td>\n",
       "      <td>1</td>\n",
       "      <td>0.287198</td>\n",
       "      <td>0.712802</td>\n",
       "      <td>hepatotox</td>\n",
       "    </tr>\n",
       "    <tr>\n",
       "      <th>15</th>\n",
       "      <td>hydroxyzine</td>\n",
       "      <td>1</td>\n",
       "      <td>0.213823</td>\n",
       "      <td>0.786177</td>\n",
       "      <td>hepatotox</td>\n",
       "    </tr>\n",
       "    <tr>\n",
       "      <th>16</th>\n",
       "      <td>ivermectin</td>\n",
       "      <td>1</td>\n",
       "      <td>0.208692</td>\n",
       "      <td>0.791308</td>\n",
       "      <td>hepatotox</td>\n",
       "    </tr>\n",
       "    <tr>\n",
       "      <th>17</th>\n",
       "      <td>ketoconazole</td>\n",
       "      <td>1</td>\n",
       "      <td>0.316265</td>\n",
       "      <td>0.683735</td>\n",
       "      <td>hepatotox</td>\n",
       "    </tr>\n",
       "    <tr>\n",
       "      <th>18</th>\n",
       "      <td>ketorolac</td>\n",
       "      <td>1</td>\n",
       "      <td>0.398178</td>\n",
       "      <td>0.601822</td>\n",
       "      <td>non-hepatotox</td>\n",
       "    </tr>\n",
       "    <tr>\n",
       "      <th>19</th>\n",
       "      <td>leflunomide</td>\n",
       "      <td>1</td>\n",
       "      <td>0.213823</td>\n",
       "      <td>0.786177</td>\n",
       "      <td>hepatotox</td>\n",
       "    </tr>\n",
       "    <tr>\n",
       "      <th>20</th>\n",
       "      <td>loracarbef</td>\n",
       "      <td>1</td>\n",
       "      <td>0.267709</td>\n",
       "      <td>0.732291</td>\n",
       "      <td>non-hepatotox</td>\n",
       "    </tr>\n",
       "    <tr>\n",
       "      <th>21</th>\n",
       "      <td>lovastatin</td>\n",
       "      <td>1</td>\n",
       "      <td>0.423910</td>\n",
       "      <td>0.576090</td>\n",
       "      <td>hepatotox</td>\n",
       "    </tr>\n",
       "    <tr>\n",
       "      <th>22</th>\n",
       "      <td>mefenamic acid</td>\n",
       "      <td>1</td>\n",
       "      <td>0.257343</td>\n",
       "      <td>0.742657</td>\n",
       "      <td>hepatotox</td>\n",
       "    </tr>\n",
       "    <tr>\n",
       "      <th>23</th>\n",
       "      <td>methotrexate</td>\n",
       "      <td>1</td>\n",
       "      <td>0.213823</td>\n",
       "      <td>0.786177</td>\n",
       "      <td>hepatotox</td>\n",
       "    </tr>\n",
       "    <tr>\n",
       "      <th>24</th>\n",
       "      <td>methylprednisolone</td>\n",
       "      <td>1</td>\n",
       "      <td>0.300439</td>\n",
       "      <td>0.699561</td>\n",
       "      <td>hepatotox</td>\n",
       "    </tr>\n",
       "    <tr>\n",
       "      <th>25</th>\n",
       "      <td>mifepristone</td>\n",
       "      <td>1</td>\n",
       "      <td>0.213823</td>\n",
       "      <td>0.786177</td>\n",
       "      <td>non-hepatotox</td>\n",
       "    </tr>\n",
       "    <tr>\n",
       "      <th>26</th>\n",
       "      <td>nitrofurantoin</td>\n",
       "      <td>1</td>\n",
       "      <td>0.213823</td>\n",
       "      <td>0.786177</td>\n",
       "      <td>hepatotox</td>\n",
       "    </tr>\n",
       "    <tr>\n",
       "      <th>27</th>\n",
       "      <td>norfloxacin</td>\n",
       "      <td>1</td>\n",
       "      <td>0.328877</td>\n",
       "      <td>0.671123</td>\n",
       "      <td>hepatotox</td>\n",
       "    </tr>\n",
       "    <tr>\n",
       "      <th>28</th>\n",
       "      <td>nortriptyline</td>\n",
       "      <td>1</td>\n",
       "      <td>0.284258</td>\n",
       "      <td>0.715742</td>\n",
       "      <td>hepatotox</td>\n",
       "    </tr>\n",
       "    <tr>\n",
       "      <th>29</th>\n",
       "      <td>ofloxacin</td>\n",
       "      <td>1</td>\n",
       "      <td>0.311091</td>\n",
       "      <td>0.688909</td>\n",
       "      <td>non-hepatotox</td>\n",
       "    </tr>\n",
       "    <tr>\n",
       "      <th>30</th>\n",
       "      <td>orlistat</td>\n",
       "      <td>1</td>\n",
       "      <td>0.208692</td>\n",
       "      <td>0.791308</td>\n",
       "      <td>hepatotox</td>\n",
       "    </tr>\n",
       "    <tr>\n",
       "      <th>31</th>\n",
       "      <td>orphenadrine</td>\n",
       "      <td>1</td>\n",
       "      <td>0.253027</td>\n",
       "      <td>0.746973</td>\n",
       "      <td>non-hepatotox</td>\n",
       "    </tr>\n",
       "    <tr>\n",
       "      <th>32</th>\n",
       "      <td>primaquine</td>\n",
       "      <td>1</td>\n",
       "      <td>0.310756</td>\n",
       "      <td>0.689244</td>\n",
       "      <td>hepatotox</td>\n",
       "    </tr>\n",
       "    <tr>\n",
       "      <th>33</th>\n",
       "      <td>promethazine</td>\n",
       "      <td>1</td>\n",
       "      <td>0.334605</td>\n",
       "      <td>0.665395</td>\n",
       "      <td>non-hepatotox</td>\n",
       "    </tr>\n",
       "    <tr>\n",
       "      <th>34</th>\n",
       "      <td>pyrazinamide</td>\n",
       "      <td>1</td>\n",
       "      <td>0.334605</td>\n",
       "      <td>0.665395</td>\n",
       "      <td>hepatotox</td>\n",
       "    </tr>\n",
       "    <tr>\n",
       "      <th>35</th>\n",
       "      <td>riboflavin</td>\n",
       "      <td>1</td>\n",
       "      <td>0.268303</td>\n",
       "      <td>0.731697</td>\n",
       "      <td>hepatotox</td>\n",
       "    </tr>\n",
       "    <tr>\n",
       "      <th>36</th>\n",
       "      <td>rifabutin</td>\n",
       "      <td>1</td>\n",
       "      <td>0.279182</td>\n",
       "      <td>0.720818</td>\n",
       "      <td>hepatotox</td>\n",
       "    </tr>\n",
       "    <tr>\n",
       "      <th>37</th>\n",
       "      <td>sulfadiazine</td>\n",
       "      <td>1</td>\n",
       "      <td>0.227195</td>\n",
       "      <td>0.772805</td>\n",
       "      <td>hepatotox</td>\n",
       "    </tr>\n",
       "    <tr>\n",
       "      <th>38</th>\n",
       "      <td>sulfasalazine</td>\n",
       "      <td>1</td>\n",
       "      <td>0.213823</td>\n",
       "      <td>0.786177</td>\n",
       "      <td>hepatotox</td>\n",
       "    </tr>\n",
       "    <tr>\n",
       "      <th>39</th>\n",
       "      <td>trimethoprim</td>\n",
       "      <td>1</td>\n",
       "      <td>0.213823</td>\n",
       "      <td>0.786177</td>\n",
       "      <td>hepatotox</td>\n",
       "    </tr>\n",
       "    <tr>\n",
       "      <th>40</th>\n",
       "      <td>troglitazone</td>\n",
       "      <td>1</td>\n",
       "      <td>0.292174</td>\n",
       "      <td>0.707826</td>\n",
       "      <td>hepatotox</td>\n",
       "    </tr>\n",
       "    <tr>\n",
       "      <th>41</th>\n",
       "      <td>valproic acid</td>\n",
       "      <td>1</td>\n",
       "      <td>0.240813</td>\n",
       "      <td>0.759187</td>\n",
       "      <td>hepatotox</td>\n",
       "    </tr>\n",
       "    <tr>\n",
       "      <th>42</th>\n",
       "      <td>vinblastine</td>\n",
       "      <td>1</td>\n",
       "      <td>0.213823</td>\n",
       "      <td>0.786177</td>\n",
       "      <td>hepatotox</td>\n",
       "    </tr>\n",
       "  </tbody>\n",
       "</table>\n",
       "</div>"
      ],
      "text/plain": [
       "                  name  Pred_DILI       Pr0       Pr1     exp_humans\n",
       "0        acetazolamide          1  0.267709  0.732291      hepatotox\n",
       "1            alfuzosin          1  0.247107  0.752893      hepatotox\n",
       "2           ampicillin          1  0.233461  0.766539      hepatotox\n",
       "3         carisoprodol          1  0.213823  0.786177  non-hepatotox\n",
       "4             cefepime          1  0.406406  0.593594  non-hepatotox\n",
       "5          ceftazidime          1  0.350857  0.649143  non-hepatotox\n",
       "6        chlormezanone          1  0.283020  0.716980      hepatotox\n",
       "7       chlorpropamide          1  0.233461  0.766539      hepatotox\n",
       "8        chlorzoxazone          1  0.213823  0.786177      hepatotox\n",
       "9              dapsone          1  0.268401  0.731599      hepatotox\n",
       "10        deferoxamine          1  0.227195  0.772805      hepatotox\n",
       "11          disulfiram          1  0.276709  0.723291      hepatotox\n",
       "12         finasteride          1  0.241640  0.758360  non-hepatotox\n",
       "13         glimepiride          1  0.213823  0.786177  non-hepatotox\n",
       "14         hydralazine          1  0.287198  0.712802      hepatotox\n",
       "15         hydroxyzine          1  0.213823  0.786177      hepatotox\n",
       "16          ivermectin          1  0.208692  0.791308      hepatotox\n",
       "17        ketoconazole          1  0.316265  0.683735      hepatotox\n",
       "18           ketorolac          1  0.398178  0.601822  non-hepatotox\n",
       "19         leflunomide          1  0.213823  0.786177      hepatotox\n",
       "20          loracarbef          1  0.267709  0.732291  non-hepatotox\n",
       "21          lovastatin          1  0.423910  0.576090      hepatotox\n",
       "22      mefenamic acid          1  0.257343  0.742657      hepatotox\n",
       "23        methotrexate          1  0.213823  0.786177      hepatotox\n",
       "24  methylprednisolone          1  0.300439  0.699561      hepatotox\n",
       "25        mifepristone          1  0.213823  0.786177  non-hepatotox\n",
       "26      nitrofurantoin          1  0.213823  0.786177      hepatotox\n",
       "27         norfloxacin          1  0.328877  0.671123      hepatotox\n",
       "28       nortriptyline          1  0.284258  0.715742      hepatotox\n",
       "29           ofloxacin          1  0.311091  0.688909  non-hepatotox\n",
       "30            orlistat          1  0.208692  0.791308      hepatotox\n",
       "31        orphenadrine          1  0.253027  0.746973  non-hepatotox\n",
       "32          primaquine          1  0.310756  0.689244      hepatotox\n",
       "33        promethazine          1  0.334605  0.665395  non-hepatotox\n",
       "34        pyrazinamide          1  0.334605  0.665395      hepatotox\n",
       "35          riboflavin          1  0.268303  0.731697      hepatotox\n",
       "36           rifabutin          1  0.279182  0.720818      hepatotox\n",
       "37        sulfadiazine          1  0.227195  0.772805      hepatotox\n",
       "38       sulfasalazine          1  0.213823  0.786177      hepatotox\n",
       "39        trimethoprim          1  0.213823  0.786177      hepatotox\n",
       "40        troglitazone          1  0.292174  0.707826      hepatotox\n",
       "41       valproic acid          1  0.240813  0.759187      hepatotox\n",
       "42         vinblastine          1  0.213823  0.786177      hepatotox"
      ]
     },
     "execution_count": 150,
     "metadata": {},
     "output_type": "execute_result"
    }
   ],
   "source": [
    "P1[['name','Pred_DILI','Pr0','Pr1','exp_humans']]"
   ]
  },
  {
   "cell_type": "markdown",
   "metadata": {},
   "source": [
    "### KNN "
   ]
  },
  {
   "cell_type": "code",
   "execution_count": null,
   "metadata": {},
   "outputs": [],
   "source": [
    "from sklearn. import GradientBoostingClassifier\n",
    "from sklearn.metrics import make_scorer,f1_score,accuracy_score\n",
    "from sklearn.grid_search import GridSearchCV\n",
    "from sklearn.cross_validation import StratifiedKFold\n",
    "\n",
    "GBC0 = GradientBoostingClassifier(loss='exponential')\n",
    "\n",
    "params={'learning_rate': 10**np.linspace(-2,0,num=10),\n",
    "         'max_depth': range(5,10),\n",
    "         'n_estimators': range(5,105,20)\n",
    "       }\n",
    "\n",
    "def my_f1(y_tr,y_pr):\n",
    "    return mean_absolute_error(y_tr,y_pr)\n",
    "\n",
    "f1_scorer = make_scorer(f1_score,greater_is_better=True)\n",
    "ac_scorer = make_scorer(accuracy_score,greater_is_better=True)\n",
    "Grid1= GridSearchCV(estimator=GBC0,param_grid=params,\n",
    "                    n_jobs=30,cv=StratifiedKFold(Y2,n_folds=2),\n",
    "                    verbose=1,\n",
    "                    scoring=ac_scorer)"
   ]
  }
 ],
 "metadata": {
  "kernelspec": {
   "display_name": "Python 2",
   "language": "python",
   "name": "python2"
  },
  "language_info": {
   "codemirror_mode": {
    "name": "ipython",
    "version": 2
   },
   "file_extension": ".py",
   "mimetype": "text/x-python",
   "name": "python",
   "nbconvert_exporter": "python",
   "pygments_lexer": "ipython2",
   "version": "2.7.14"
  }
 },
 "nbformat": 4,
 "nbformat_minor": 2
}
