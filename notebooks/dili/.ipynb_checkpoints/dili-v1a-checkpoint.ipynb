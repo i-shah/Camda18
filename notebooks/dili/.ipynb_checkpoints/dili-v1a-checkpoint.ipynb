{
 "cells": [
  {
   "cell_type": "code",
   "execution_count": 2,
   "metadata": {},
   "outputs": [
    {
     "name": "stdout",
     "output_type": "stream",
     "text": [
      "The autoreload extension is already loaded. To reload it, use:\n",
      "  %reload_ext autoreload\n",
      "Populating the interactive namespace from numpy and matplotlib\n"
     ]
    },
    {
     "name": "stderr",
     "output_type": "stream",
     "text": [
      "/usr/lib/python2.7/dist-packages/IPython/core/magics/pylab.py:161: UserWarning: pylab import has clobbered these variables: ['text']\n",
      "`%matplotlib` prevents importing * from pylab and numpy\n",
      "  \"\\n`%matplotlib` prevents importing * from pylab and numpy\"\n"
     ]
    }
   ],
   "source": [
    "# %load ../kiwi.py\n",
    "# %load ../env.py\n",
    "%load_ext autoreload\n",
    "%autoreload 2\n",
    "%pylab inline\n",
    "%matplotlib inline\n",
    "#%load_ext rpy2.ipython\n",
    "\n",
    "import matplotlib.text as text\n",
    "import pandas as pd\n",
    "import numpy as np\n",
    "import pylab as pl\n",
    "import scipy as sp\n",
    "import sys\n",
    "import rpy2 \n",
    "from rpy2.robjects import r, pandas2ri\n",
    "import os \n",
    "from sklearn.metrics.pairwise import euclidean_distances,manhattan_distances,cosine_similarity\n",
    "\n",
    "#Set environment variables\n",
    "\n",
    "\n",
    "# Set up the local source files\n",
    "#TOP = os.getcwd().replace('notebooks','')\n",
    "TOP = \"/home/ishah/ipynb/Camda18/\"\n",
    "\n",
    "LIB = TOP+'lib'\n",
    "if not LIB in sys.path: \n",
    "    sys.path.insert(0,LIB)\n",
    "\n",
    "os.environ['PYTHONPATH']=LIB\n",
    "\n",
    "\n",
    "DAT_DIR = TOP + '/data/'\n",
    "FIG_DIR = TOP + '/figs/'\n",
    "\n",
    "CMAP_DIR= '/share/home/ishah/projects/HTTR/data/'\n",
    "CMAP_DAT= '/mnt/data/CMap/CMap2.0/CEL1/'\n",
    "\n",
    "from db.mongo import *\n",
    "#DB=openMongo(db='httr_ph1',host='pb.epa.gov')\n",
    "#DB1=openMongo(db='httr_v1',host='pb.epa.gov')\n",
    "#MSG=openMongo(db='msigdb_v6',host='pb.epa.gov')\n",
    "CMP=openMongo(db='cmap_v2',host='localhost')\n",
    "#CMP = pymongo.MongoClient(\"mongodb://localhost/cmap_v2\")['cmap_v2']\n",
    "#from gexp.deseq2 import *\n",
    "pd.options.display.max_colwidth = 500\n"
   ]
  },
  {
   "cell_type": "markdown",
   "metadata": {},
   "source": [
    "# Goal\n",
    "\n",
    "Use ML to predict DILI classifications. Each instance is an affymetrix array result for a single chemical treatment. \n",
    "\n",
    "## Data Processing\n",
    "* Raw Data processing: The CEL data have to be loaded, normalized, and linked with relevant matched vehicle controls\n",
    "\n",
    "* Probe Effect analysis: Probe level L2FC effects calcualted by comparison with controls  \n",
    "\n",
    "* Probe filtering & FP generation: Create discrete versions of the data by z-score analysis and filtering out low perturbation probes\n",
    "\n",
    "## DILI Prediction\n",
    "\n",
    "* ML\n",
    "\n",
    "* Connectivity mapping\n"
   ]
  },
  {
   "cell_type": "markdown",
   "metadata": {},
   "source": [
    "## CAMDA"
   ]
  },
  {
   "cell_type": "code",
   "execution_count": 3,
   "metadata": {},
   "outputs": [
    {
     "name": "stderr",
     "output_type": "stream",
     "text": [
      "/usr/lib/python2.7/dist-packages/ipykernel_launcher.py:7: SettingWithCopyWarning: \n",
      "A value is trying to be set on a copy of a slice from a DataFrame.\n",
      "Try using .loc[row_indexer,col_indexer] = value instead\n",
      "\n",
      "See the caveats in the documentation: http://pandas.pydata.org/pandas-docs/stable/indexing.html#indexing-view-versus-copy\n",
      "  import sys\n"
     ]
    }
   ],
   "source": [
    "CAMDA0 = pd.read_excel(DAT_DIR+'CAMDA_Challange_dataset_filenames.xlsx',skiprows=2)\n",
    "D_mcf7 = CAMDA0.iloc[:,:5]\n",
    "D_mcf7.columns=['s_id','data_type','tox','perturbation_scan_id','vehicle_scan_ids']\n",
    "D_mcf7['cell']='MCF7'\n",
    "D_pc3  = CAMDA0.iloc[:,[0,1,2,5,6]]\n",
    "D_pc3.columns=['s_id','data_type','tox','perturbation_scan_id','vehicle_scan_ids']\n",
    "D_pc3['cell']='PC3'\n",
    "\n",
    "CAMDA1 = pd.concat((D_mcf7,D_pc3))\n",
    "CAMDA1['perturbation_scan_id']=CAMDA1.perturbation_scan_id.str.replace(\"'\",\"\")"
   ]
  },
  {
   "cell_type": "markdown",
   "metadata": {},
   "source": [
    "## CMap"
   ]
  },
  {
   "cell_type": "code",
   "execution_count": 4,
   "metadata": {},
   "outputs": [],
   "source": [
    "#CMap2 = pd.read_excel(DAT_DIR+'cmap_instances_02.xls')\n",
    "CMap2_db=pd.DataFrame(list(CMP.cmap_trt_info.find(dict(cell={'$in':['PC3','MCF7']}),\n",
    "                                          dict(_id=0,pert_id=1,name=1,conc=1,timeh=1))))\\\n",
    "         .drop_duplicates()\n",
    "            "
   ]
  },
  {
   "cell_type": "code",
   "execution_count": 5,
   "metadata": {},
   "outputs": [],
   "source": [
    "CAMDA2 = CAMDA1.merge(CMap2_db,left_on='perturbation_scan_id',right_on='pert_id',how='left')"
   ]
  },
  {
   "cell_type": "code",
   "execution_count": 6,
   "metadata": {},
   "outputs": [
    {
     "data": {
      "text/html": [
       "<div>\n",
       "<style scoped>\n",
       "    .dataframe tbody tr th:only-of-type {\n",
       "        vertical-align: middle;\n",
       "    }\n",
       "\n",
       "    .dataframe tbody tr th {\n",
       "        vertical-align: top;\n",
       "    }\n",
       "\n",
       "    .dataframe thead th {\n",
       "        text-align: right;\n",
       "    }\n",
       "</style>\n",
       "<table border=\"1\" class=\"dataframe\">\n",
       "  <thead>\n",
       "    <tr style=\"text-align: right;\">\n",
       "      <th></th>\n",
       "      <th>s_id</th>\n",
       "      <th>data_type</th>\n",
       "      <th>tox</th>\n",
       "      <th>perturbation_scan_id</th>\n",
       "      <th>vehicle_scan_ids</th>\n",
       "      <th>cell</th>\n",
       "      <th>conc</th>\n",
       "      <th>name</th>\n",
       "      <th>pert_id</th>\n",
       "      <th>timeh</th>\n",
       "    </tr>\n",
       "  </thead>\n",
       "  <tbody>\n",
       "    <tr>\n",
       "      <th>0</th>\n",
       "      <td>1</td>\n",
       "      <td>Training</td>\n",
       "      <td>1.0</td>\n",
       "      <td>5500024030403071907255.C05</td>\n",
       "      <td>.H01.E03.D04.B05.A06</td>\n",
       "      <td>MCF7</td>\n",
       "      <td>0.000011</td>\n",
       "      <td>acebutolol</td>\n",
       "      <td>5500024030403071907255.C05</td>\n",
       "      <td>6.0</td>\n",
       "    </tr>\n",
       "    <tr>\n",
       "      <th>1</th>\n",
       "      <td>2</td>\n",
       "      <td>Training</td>\n",
       "      <td>1.0</td>\n",
       "      <td>5500024030403071907253.A09</td>\n",
       "      <td>.H07.G08.E09.D10.B11.A12</td>\n",
       "      <td>MCF7</td>\n",
       "      <td>0.000018</td>\n",
       "      <td>aciclovir</td>\n",
       "      <td>5500024030403071907253.A09</td>\n",
       "      <td>6.0</td>\n",
       "    </tr>\n",
       "    <tr>\n",
       "      <th>2</th>\n",
       "      <td>3</td>\n",
       "      <td>Training</td>\n",
       "      <td>0.0</td>\n",
       "      <td>5500024030402071707279.B01</td>\n",
       "      <td>.H01.G02.E03.D04.B05.A06</td>\n",
       "      <td>MCF7</td>\n",
       "      <td>0.000007</td>\n",
       "      <td>amikacin</td>\n",
       "      <td>5500024030402071707279.B01</td>\n",
       "      <td>6.0</td>\n",
       "    </tr>\n",
       "    <tr>\n",
       "      <th>3</th>\n",
       "      <td>4</td>\n",
       "      <td>Training</td>\n",
       "      <td>1.0</td>\n",
       "      <td>5500024030403071907257.G04</td>\n",
       "      <td>.G02.E03.D04.B05.A06</td>\n",
       "      <td>MCF7</td>\n",
       "      <td>0.000013</td>\n",
       "      <td>amiloride</td>\n",
       "      <td>5500024030403071907257.G04</td>\n",
       "      <td>6.0</td>\n",
       "    </tr>\n",
       "    <tr>\n",
       "      <th>4</th>\n",
       "      <td>5</td>\n",
       "      <td>Training</td>\n",
       "      <td>0.0</td>\n",
       "      <td>5500024037496121008324.E08</td>\n",
       "      <td>.H07.G08.E09.D10.B11.A12</td>\n",
       "      <td>MCF7</td>\n",
       "      <td>0.000030</td>\n",
       "      <td>aminocaproic acid</td>\n",
       "      <td>5500024037496121008324.E08</td>\n",
       "      <td>6.0</td>\n",
       "    </tr>\n",
       "  </tbody>\n",
       "</table>\n",
       "</div>"
      ],
      "text/plain": [
       "   s_id  data_type  tox        perturbation_scan_id          vehicle_scan_ids  \\\n",
       "0     1  Training   1.0  5500024030403071907255.C05      .H01.E03.D04.B05.A06   \n",
       "1     2  Training   1.0  5500024030403071907253.A09  .H07.G08.E09.D10.B11.A12   \n",
       "2     3  Training   0.0  5500024030402071707279.B01  .H01.G02.E03.D04.B05.A06   \n",
       "3     4  Training   1.0  5500024030403071907257.G04      .G02.E03.D04.B05.A06   \n",
       "4     5  Training   0.0  5500024037496121008324.E08  .H07.G08.E09.D10.B11.A12   \n",
       "\n",
       "   cell      conc               name                     pert_id  timeh  \n",
       "0  MCF7  0.000011         acebutolol  5500024030403071907255.C05    6.0  \n",
       "1  MCF7  0.000018          aciclovir  5500024030403071907253.A09    6.0  \n",
       "2  MCF7  0.000007           amikacin  5500024030402071707279.B01    6.0  \n",
       "3  MCF7  0.000013          amiloride  5500024030403071907257.G04    6.0  \n",
       "4  MCF7  0.000030  aminocaproic acid  5500024037496121008324.E08    6.0  "
      ]
     },
     "execution_count": 6,
     "metadata": {},
     "output_type": "execute_result"
    }
   ],
   "source": [
    "CAMDA2.head()"
   ]
  },
  {
   "cell_type": "code",
   "execution_count": 7,
   "metadata": {},
   "outputs": [
    {
     "data": {
      "text/plain": [
       "<pymongo.results.InsertManyResult at 0x7fa47acb9200>"
      ]
     },
     "execution_count": 7,
     "metadata": {},
     "output_type": "execute_result"
    }
   ],
   "source": [
    "CMP.cmap_dili.drop()\n",
    "X = CAMDA2[['data_type','tox','cell','pert_id','name','conc','timeh']]\n",
    "CMP.cmap_dili.insert_many(X.to_dict('records'))"
   ]
  },
  {
   "cell_type": "markdown",
   "metadata": {},
   "source": [
    "# DILI Set\n"
   ]
  },
  {
   "cell_type": "code",
   "execution_count": null,
   "metadata": {},
   "outputs": [],
   "source": [
    "RES = []\n",
    "ii=0\n",
    "trt_fmt = \"%(cell)s-%(name)s-%(timeh)dh-%(conc)sM\"\n",
    "C = ['data_type','tox','cell','name','conc']\n",
    "for P in CMP.cmap_dili.find({},dict(_id=0,pert_id=1,data_type=1,tox=1),\n",
    "                           no_cursor_timeout=True):\n",
    "    ii+=1\n",
    "    X = CMP.cmap_fc.find_one(dict(pert_id=P['pert_id']),dict(_id=0))\n",
    "    X.update(P)\n",
    "    trt_str = trt_fmt % X\n",
    "    Y = {k:X[k] for k in C}\n",
    "    Y.update(X.pop('fc1'))\n",
    "    Y.update(dict(trt_id=trt_str))\n",
    "    \n",
    "    RES.append(Y)\n",
    "    if ii % 10 ==0: print ii\n",
    "C.insert(0,'trt_id')\n",
    "FC0 = pd.DataFrame(RES).set_index(C)\n",
    "AFX=[i for i in FC0.columns if i.startswith('AFFX')]\n",
    "\n",
    "FC0 = FC0.drop(AFX,axis=1)\n"
   ]
  },
  {
   "cell_type": "markdown",
   "metadata": {},
   "source": [
    "# load dili chemical information"
   ]
  },
  {
   "cell_type": "code",
   "execution_count": 17,
   "metadata": {},
   "outputs": [
    {
     "data": {
      "text/plain": [
       "['.ipynb_checkpoints',\n",
       " 'dili-chemicals-1.xlsx',\n",
       " 'ChemistryDashboard-Batch-Search_2018-04-16_05_19_23.tsv',\n",
       " 'ChemistryDashboard-Batch-Search_2018-04-13_22_37_43.tsv',\n",
       " 'hgu133_info.csv',\n",
       " 'cmap_instances_02.xls',\n",
       " 'ChemistryDashboard-Batch-Search_2018-04-16_05_03_06.tsv',\n",
       " 'ChemistryDashboard-Batch-Search_2018-04-13_22_40_22.tsv',\n",
       " 'cmap-db-v1a.ipynb',\n",
       " 'ChemistryDashboard-Batch-Search_2018-04-13_21_54_14.tsv',\n",
       " 'CAMDA_Challange_dataset_filenames.xlsx',\n",
       " 'cmap_dili.csv',\n",
       " 'cmap-chems-v1.tsv']"
      ]
     },
     "execution_count": 17,
     "metadata": {},
     "output_type": "execute_result"
    }
   ],
   "source": [
    "os.listdir(DAT_DIR)\n"
   ]
  },
  {
   "cell_type": "code",
   "execution_count": 9,
   "metadata": {},
   "outputs": [],
   "source": [
    "X1 = pd.read_csv(DAT_DIR+'ChemistryDashboard-Batch-Search_2018-04-13_22_37_43.tsv',sep='\\t')\n",
    "X2 = pd.read_csv(DAT_DIR+'ChemistryDashboard-Batch-Search_2018-04-13_22_40_22.tsv',sep='\\t')\n",
    "\n",
    "DSSTOX0 =pd.concat((X1,X2)).drop_duplicates()"
   ]
  },
  {
   "cell_type": "code",
   "execution_count": 10,
   "metadata": {},
   "outputs": [],
   "source": [
    "DILI0 = pd.concat([pd.read_excel(DAT_DIR+'dili-chemicals-1.xlsx',sheet_name=i) for i in range(3)])"
   ]
  },
  {
   "cell_type": "markdown",
   "metadata": {},
   "source": [
    "## get cmap chemical information"
   ]
  },
  {
   "cell_type": "code",
   "execution_count": 11,
   "metadata": {},
   "outputs": [
    {
     "data": {
      "text/plain": [
       "u'name_1'"
      ]
     },
     "execution_count": 11,
     "metadata": {},
     "output_type": "execute_result"
    }
   ],
   "source": [
    "CMP.cmap_fc.create_index('name')"
   ]
  },
  {
   "cell_type": "code",
   "execution_count": 39,
   "metadata": {},
   "outputs": [],
   "source": [
    "X1 = pd.DataFrame(list(CMP.cmap_fc.distinct('name')))\n",
    "X1.columns=['name']"
   ]
  },
  {
   "cell_type": "code",
   "execution_count": 42,
   "metadata": {},
   "outputs": [],
   "source": [
    "file(DAT_DIR+'cmap-chems-v1.tsv','w').write('\\n'.join(map(str,X1.name.unique())))"
   ]
  },
  {
   "cell_type": "code",
   "execution_count": 13,
   "metadata": {},
   "outputs": [
    {
     "data": {
      "text/plain": [
       "True"
      ]
     },
     "execution_count": 13,
     "metadata": {},
     "output_type": "execute_result"
    }
   ],
   "source": [
    "os.path.exists('/home/ishah/ipynb/Camda18/data/ChemistryDashboard-Batch-Search_2018-04-16_05_19_23.tsv')\n"
   ]
  },
  {
   "cell_type": "code",
   "execution_count": 22,
   "metadata": {},
   "outputs": [],
   "source": [
    "#os.path.exists('/home/ishah/ipynb/Camda18/data/ChemistryDashboard-Batch-Search_2018-04-16_05_19_23.tsv')\n",
    "\n",
    "X1 = pd.read_csv(DAT_DIR+'ChemistryDashboard-Batch-Search_2018-04-16_05_03_06.tsv',sep='\\t')\n",
    "X2 = pd.read_csv(DAT_DIR+'ChemistryDashboard-Batch-Search_2018-04-16_05_19_23.tsv',sep='\\t')\n",
    "\n",
    "CMAP0 =pd.concat((X1,X2)).drop_duplicates()\\\n",
    "        .rename(columns=dict(INPUT='cmap_name',\n",
    "                             FOUND_BY='found_by',\n",
    "                             DTXSID='dsstox_sid',\n",
    "                             PREFERRED_NAME='name',\n",
    "                             CASRN='casrn',\n",
    "                             INCHI_KEY='inchi_key',\n",
    "                             IUPAC_NAME='iupac_name',\n",
    "                             SMILES='smiles',\n",
    "                             QSAR_READY_SMILES='qsar_smiles'\n",
    "                             ))"
   ]
  },
  {
   "cell_type": "code",
   "execution_count": 26,
   "metadata": {},
   "outputs": [
    {
     "data": {
      "text/plain": [
       "<pymongo.results.InsertManyResult at 0x7fa47aba6ab8>"
      ]
     },
     "execution_count": 26,
     "metadata": {},
     "output_type": "execute_result"
    }
   ],
   "source": [
    "CMP.cmap_chems.insert_many(CMAP0.to_dict('records'))"
   ]
  },
  {
   "cell_type": "code",
   "execution_count": null,
   "metadata": {},
   "outputs": [],
   "source": []
  }
 ],
 "metadata": {
  "kernelspec": {
   "display_name": "Python 2",
   "language": "python",
   "name": "python2"
  },
  "language_info": {
   "codemirror_mode": {
    "name": "ipython",
    "version": 2
   },
   "file_extension": ".py",
   "mimetype": "text/x-python",
   "name": "python",
   "nbconvert_exporter": "python",
   "pygments_lexer": "ipython2",
   "version": "2.7.15rc1"
  }
 },
 "nbformat": 4,
 "nbformat_minor": 2
}
