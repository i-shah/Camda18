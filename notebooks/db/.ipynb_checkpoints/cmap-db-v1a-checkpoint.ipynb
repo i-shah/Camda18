{
 "cells": [
  {
   "cell_type": "code",
   "execution_count": 3,
   "metadata": {},
   "outputs": [
    {
     "name": "stdout",
     "output_type": "stream",
     "text": [
      "The autoreload extension is already loaded. To reload it, use:\n",
      "  %reload_ext autoreload\n",
      "Populating the interactive namespace from numpy and matplotlib\n"
     ]
    }
   ],
   "source": [
    "# %load ../env.py\n",
    "%load_ext autoreload\n",
    "%autoreload 2\n",
    "%pylab inline\n",
    "%matplotlib inline\n",
    "#%load_ext rpy2.ipython\n",
    "\n",
    "import matplotlib.text as text\n",
    "import pandas as pd\n",
    "import numpy as np\n",
    "import pylab as pl\n",
    "import scipy as sp\n",
    "import sys\n",
    "import rpy2 \n",
    "from rpy2.robjects import r, pandas2ri\n",
    "import os \n",
    "from sklearn.metrics.pairwise import euclidean_distances,manhattan_distances,cosine_similarity\n",
    "\n",
    "#Set environment variables\n",
    "\n",
    "\n",
    "# Set up the local source files\n",
    "#TOP = os.getcwd().replace('notebooks','')\n",
    "TOP = \"/home/ishah/ipynb/Camda18/\"\n",
    "\n",
    "LIB = TOP+'lib'\n",
    "if not LIB in sys.path: \n",
    "    sys.path.insert(0,LIB)\n",
    "\n",
    "os.environ['PYTHONPATH']=LIB\n",
    "\n",
    "\n",
    "DAT_DIR = TOP + '/data/'\n",
    "FIG_DIR = TOP + '/figs/'\n",
    "\n",
    "CMAP_DIR= '/share/home/ishah/projects/HTTR/data/'\n",
    "CMAP_DAT= '/mnt/data/CMap/CMap2.0/CEL1/'\n",
    "\n",
    "from db.mongo import *\n",
    "#DB=openMongo(db='httr_ph1',host='pb.epa.gov')\n",
    "#DB1=openMongo(db='httr_v1',host='pb.epa.gov')\n",
    "#MSG=openMongo(db='msigdb_v6',host='pb.epa.gov')\n",
    "#CMP=openMongo(db='cmap_v2',host='localhost')\n",
    "CMP = pymongo.MongoClient(\"mongodb://localhost/cmap_v2\")['cmap_v2']\n",
    "#from gexp.deseq2 import *\n",
    "pd.options.display.max_colwidth = 500\n"
   ]
  },
  {
   "cell_type": "markdown",
   "metadata": {},
   "source": [
    "# Goal\n",
    "\n",
    "Process all CMap Cell files \n",
    "\n",
    "Create FC matrix for all treatments\n",
    "\n",
    "Create CMap DB for querying treatments\n"
   ]
  },
  {
   "cell_type": "markdown",
   "metadata": {},
   "source": [
    "## Get CEL files\n",
    "\n",
    "The CMAP data are based on three different affy chips and each has to be loaded separately"
   ]
  },
  {
   "cell_type": "code",
   "execution_count": 2,
   "metadata": {},
   "outputs": [
    {
     "name": "stderr",
     "output_type": "stream",
     "text": [
      "/opt/miniconda2/lib/python2.7/site-packages/rpy2/robjects/functions.py:106: UserWarning: Loading required package: BiocGenerics\n",
      "\n",
      "  res = super(Function, self).__call__(*new_args, **new_kwargs)\n",
      "/opt/miniconda2/lib/python2.7/site-packages/rpy2/robjects/functions.py:106: UserWarning: Loading required package: parallel\n",
      "\n",
      "  res = super(Function, self).__call__(*new_args, **new_kwargs)\n",
      "/opt/miniconda2/lib/python2.7/site-packages/rpy2/robjects/functions.py:106: UserWarning: \n",
      "Attaching package: ‘BiocGenerics’\n",
      "\n",
      "\n",
      "  res = super(Function, self).__call__(*new_args, **new_kwargs)\n",
      "/opt/miniconda2/lib/python2.7/site-packages/rpy2/robjects/functions.py:106: UserWarning: The following objects are masked from ‘package:parallel’:\n",
      "\n",
      "    clusterApply, clusterApplyLB, clusterCall, clusterEvalQ,\n",
      "    clusterExport, clusterMap, parApply, parCapply, parLapply,\n",
      "    parLapplyLB, parRapply, parSapply, parSapplyLB\n",
      "\n",
      "\n",
      "  res = super(Function, self).__call__(*new_args, **new_kwargs)\n",
      "/opt/miniconda2/lib/python2.7/site-packages/rpy2/robjects/functions.py:106: UserWarning: The following objects are masked from ‘package:stats’:\n",
      "\n",
      "    IQR, mad, sd, var, xtabs\n",
      "\n",
      "\n",
      "  res = super(Function, self).__call__(*new_args, **new_kwargs)\n",
      "/opt/miniconda2/lib/python2.7/site-packages/rpy2/robjects/functions.py:106: UserWarning: The following objects are masked from ‘package:base’:\n",
      "\n",
      "    anyDuplicated, append, as.data.frame, cbind, colMeans, colnames,\n",
      "    colSums, do.call, duplicated, eval, evalq, Filter, Find, get, grep,\n",
      "    grepl, intersect, is.unsorted, lapply, lengths, Map, mapply, match,\n",
      "    mget, order, paste, pmax, pmax.int, pmin, pmin.int, Position, rank,\n",
      "    rbind, Reduce, rowMeans, rownames, rowSums, sapply, setdiff, sort,\n",
      "    table, tapply, union, unique, unsplit, which, which.max, which.min\n",
      "\n",
      "\n",
      "  res = super(Function, self).__call__(*new_args, **new_kwargs)\n",
      "/opt/miniconda2/lib/python2.7/site-packages/rpy2/robjects/functions.py:106: UserWarning: Loading required package: Biobase\n",
      "\n",
      "  res = super(Function, self).__call__(*new_args, **new_kwargs)\n",
      "/opt/miniconda2/lib/python2.7/site-packages/rpy2/robjects/functions.py:106: UserWarning: Welcome to Bioconductor\n",
      "\n",
      "    Vignettes contain introductory material; view with\n",
      "    'browseVignettes()'. To cite Bioconductor, see\n",
      "    'citation(\"Biobase\")', and for packages 'citation(\"pkgname\")'.\n",
      "\n",
      "\n",
      "  res = super(Function, self).__call__(*new_args, **new_kwargs)\n"
     ]
    }
   ],
   "source": [
    "from db.createdb import *\n",
    "from gexp.affy import *\n",
    "\n",
    "CEL1=get_cels(CMAP_DAT)\n",
    "CEL1['scan_str_len']=CEL1.cel.apply(lambda i: len(i))\n",
    "CEL1['fullpath']=CEL1.path+'/'+CEL1.cel\n",
    "CEL1['affycdf']=CEL1.fullpath.apply(getAffyCelCdf)"
   ]
  },
  {
   "cell_type": "code",
   "execution_count": 3,
   "metadata": {},
   "outputs": [
    {
     "data": {
      "text/plain": [
       "HT_HG-U133A    6029\n",
       "HG-U133A        807\n",
       "U133AAofAv2     220\n",
       "Name: affycdf, dtype: int64"
      ]
     },
     "execution_count": 3,
     "metadata": {},
     "output_type": "execute_result"
    }
   ],
   "source": [
    "CEL1.affycdf.value_counts()"
   ]
  },
  {
   "cell_type": "markdown",
   "metadata": {},
   "source": [
    "## Load and Normalize CEL files"
   ]
  },
  {
   "cell_type": "code",
   "execution_count": 5,
   "metadata": {},
   "outputs": [
    {
     "name": "stdout",
     "output_type": "stream",
     "text": [
      "Start ...  2018-04-09 11:37:49\n",
      "\n",
      ">Processing 1 2018-04-09 11:37:49\n",
      " Path: /mnt/data/CMap/CMap2.0/CEL1/cmap_build02.volume1of7\n",
      " CELs: 494 AffyCDF: HG-U133A\n"
     ]
    },
    {
     "name": "stderr",
     "output_type": "stream",
     "text": [
      "/opt/miniconda2/lib/python2.7/site-packages/rpy2/robjects/functions.py:106: UserWarning: \n",
      "\n",
      "  res = super(Function, self).__call__(*new_args, **new_kwargs)\n"
     ]
    },
    {
     "name": "stdout",
     "output_type": "stream",
     "text": [
      "Background correcting\n",
      "Normalizing\n",
      "Calculating Expression\n",
      "\n",
      ">Processing 2 2018-04-09 11:42:31\n",
      " Path: /mnt/data/CMap/CMap2.0/CEL1/cmap_build02.volume2of7\n",
      " CELs: 313 AffyCDF: HG-U133A\n",
      "Background correcting\n",
      "Normalizing\n",
      "Calculating Expression\n",
      "\n",
      ">Processing 3 2018-04-09 11:45:06\n",
      " Path: /mnt/data/CMap/CMap2.0/CEL1/cmap_build02.volume1of7\n",
      " CELs: 286 AffyCDF: HT_HG-U133A\n",
      "Background correcting\n"
     ]
    },
    {
     "name": "stderr",
     "output_type": "stream",
     "text": [
      "/opt/miniconda2/lib/python2.7/site-packages/rpy2/robjects/functions.py:106: UserWarning: \n",
      "Attaching package: ‘hthgu133acdf’\n",
      "\n",
      "\n",
      "  res = super(Function, self).__call__(*new_args, **new_kwargs)\n",
      "/opt/miniconda2/lib/python2.7/site-packages/rpy2/robjects/functions.py:106: UserWarning: The following objects are masked from ‘package:hgu133acdf’:\n",
      "\n",
      "    i2xy, xy2i\n",
      "\n",
      "\n",
      "  res = super(Function, self).__call__(*new_args, **new_kwargs)\n"
     ]
    },
    {
     "name": "stdout",
     "output_type": "stream",
     "text": [
      "Normalizing\n",
      "Calculating Expression\n",
      "\n",
      ">Processing 4 2018-04-09 11:47:32\n",
      " Path: /mnt/data/CMap/CMap2.0/CEL1/cmap_build02.volume2of7\n",
      " CELs: 687 AffyCDF: HT_HG-U133A\n",
      "Background correcting\n",
      "Normalizing\n",
      "Calculating Expression\n",
      "\n",
      ">Processing 5 2018-04-09 11:53:07\n",
      " Path: /mnt/data/CMap/CMap2.0/CEL1/cmap_build02.volume3of7\n",
      " CELs: 1000 AffyCDF: HT_HG-U133A\n",
      "Background correcting\n",
      "Normalizing\n",
      "Calculating Expression\n",
      "\n",
      ">Processing 6 2018-04-09 12:01:23\n",
      " Path: /mnt/data/CMap/CMap2.0/CEL1/cmap_build02.volume4of7\n",
      " CELs: 1000 AffyCDF: HT_HG-U133A\n",
      "Background correcting\n",
      "Normalizing\n",
      "Calculating Expression\n",
      "\n",
      ">Processing 7 2018-04-09 12:09:49\n",
      " Path: /mnt/data/CMap/CMap2.0/CEL1/cmap_build02.volume5of7\n",
      " CELs: 1000 AffyCDF: HT_HG-U133A\n",
      "Background correcting\n",
      "Normalizing\n",
      "Calculating Expression\n",
      "\n",
      ">Processing 8 2018-04-09 12:18:00\n",
      " Path: /mnt/data/CMap/CMap2.0/CEL1/cmap_build02.volume6of7\n",
      " CELs: 1000 AffyCDF: HT_HG-U133A\n",
      "Background correcting\n",
      "Normalizing\n",
      "Calculating Expression\n",
      "\n",
      ">Processing 9 2018-04-09 12:26:05\n",
      " Path: /mnt/data/CMap/CMap2.0/CEL1/cmap_build02.volume7of7\n",
      " CELs: 1056 AffyCDF: HT_HG-U133A\n",
      "Background correcting\n",
      "Normalizing\n",
      "Calculating Expression\n",
      "\n",
      ">Processing 10 2018-04-09 12:34:34\n",
      " Path: /mnt/data/CMap/CMap2.0/CEL1/cmap_build02.volume1of7\n",
      " CELs: 220 AffyCDF: U133AAofAv2\n",
      "Background correcting\n"
     ]
    },
    {
     "name": "stderr",
     "output_type": "stream",
     "text": [
      "/opt/miniconda2/lib/python2.7/site-packages/rpy2/robjects/functions.py:106: UserWarning: \n",
      "Attaching package: ‘u133aaofav2cdf’\n",
      "\n",
      "\n",
      "  res = super(Function, self).__call__(*new_args, **new_kwargs)\n",
      "/opt/miniconda2/lib/python2.7/site-packages/rpy2/robjects/functions.py:106: UserWarning: The following objects are masked from ‘package:hthgu133acdf’:\n",
      "\n",
      "    i2xy, xy2i\n",
      "\n",
      "\n",
      "  res = super(Function, self).__call__(*new_args, **new_kwargs)\n"
     ]
    },
    {
     "name": "stdout",
     "output_type": "stream",
     "text": [
      "Normalizing\n",
      "Calculating Expression\n",
      "Start ...  2018-04-09 12:36:31\n"
     ]
    }
   ],
   "source": [
    "RES=[]\n",
    "k=0\n",
    "import datetime\n",
    "import sys\n",
    "\n",
    "print \"Start ... \", datetime.datetime.now().strftime(\"%Y-%m-%d %H:%M:%S\")\n",
    "sys.stdout.flush()\n",
    "\n",
    "for (affycdf,path),X in CEL1.groupby(['affycdf','path']):\n",
    "    k+=1\n",
    "    #print sl,path,X.shape,set([len(i.replace('.CEL','').split('.')) for i in X.cel])\n",
    "    print '\\n>Processing',k,datetime.datetime.now().strftime(\"%Y-%m-%d %H:%M:%S\")\n",
    "    print ' Path:',path\n",
    "    print ' CELs:',X.shape[0],'AffyCDF:',affycdf\n",
    "    sys.stdout.flush()\n",
    "    E1= loadAffyCelsNorm(list(X.cel),path)\n",
    "    E1['affycdf']=affycdf\n",
    "    E1['batch']=k\n",
    "    RES.append(E1)\n",
    "    \n",
    "print \"End ... \", datetime.datetime.now().strftime(\"%Y-%m-%d %H:%M:%S\")\n",
    "\n",
    "print \"Concatenating results ... \"\n",
    "\n",
    "EXP0=pd.concat(RES).set_index(['batch','affycdf','cel']).drop('sample',axis=1)\n",
    "\n"
   ]
  },
  {
   "cell_type": "code",
   "execution_count": 6,
   "metadata": {},
   "outputs": [],
   "source": [
    "EXP0=pd.concat(RES).set_index(['batch','affycdf','cel']).drop('sample',axis=1)"
   ]
  },
  {
   "cell_type": "markdown",
   "metadata": {},
   "source": []
  },
  {
   "cell_type": "code",
   "execution_count": 30,
   "metadata": {},
   "outputs": [],
   "source": [
    "EXP1 = EXP0.reset_index().merge(CEL1[['path','cel','mtime','fullpath']],\n",
    "                                left_on='cel',right_on='cel')"
   ]
  },
  {
   "cell_type": "code",
   "execution_count": null,
   "metadata": {},
   "outputs": [],
   "source": [
    "EXP1.to_csv(DAT_DIR+'cmap-exp-1.csv')"
   ]
  },
  {
   "cell_type": "code",
   "execution_count": 37,
   "metadata": {},
   "outputs": [],
   "source": [
    "CMP.cmap_affy_raw.drop()\n",
    "\n",
    "\n",
    "for (i,X) in EXP1.reset_index().iterrows():\n",
    "    \n",
    "    G = X[['batch','affycdf','cel','fullpath','path','mtime']].to_dict()\n",
    "    #G = X.to_dict('records')\n",
    "    G['probe_levels']=X.drop(['index','batch','affycdf','cel','fullpath','path','mtime']).dropna().to_dict()\n",
    "\n",
    "    CMP.cmap_affy_raw.insert_one(G)"
   ]
  },
  {
   "cell_type": "markdown",
   "metadata": {},
   "source": [
    "### Add scan ids"
   ]
  },
  {
   "cell_type": "code",
   "execution_count": 4,
   "metadata": {},
   "outputs": [],
   "source": [
    "for x in CMP.cmap_affy_raw.find():\n",
    "    CMP.cmap_affy_raw.update_one(dict(_id=x['_id']),\n",
    "                                 {'$set':dict(scan_id=x['cel'].replace('.CEL',''))})"
   ]
  },
  {
   "cell_type": "code",
   "execution_count": 5,
   "metadata": {},
   "outputs": [
    {
     "data": {
      "text/plain": [
       "u'scan_id_1'"
      ]
     },
     "execution_count": 5,
     "metadata": {},
     "output_type": "execute_result"
    }
   ],
   "source": [
    "CMP.cmap_affy_raw.create_index('scan_id')"
   ]
  },
  {
   "cell_type": "code",
   "execution_count": 42,
   "metadata": {},
   "outputs": [],
   "source": []
  },
  {
   "cell_type": "markdown",
   "metadata": {},
   "source": [
    "## CMap info\n",
    "\n"
   ]
  },
  {
   "cell_type": "code",
   "execution_count": 128,
   "metadata": {},
   "outputs": [],
   "source": [
    "CMap2 = pd.read_excel(DAT_DIR+'cmap_instances_02.xls')\n",
    "CMap2.rename(columns={'array3': 'gexp_array',\n",
    "                     u'catalog_name': u'name_formal',\n",
    "                      'vendor': 'chem_source',\n",
    "                     u'cell2': u'cell',\n",
    "                     u'cmap_name': u'name',\n",
    "                     u'concentration (M)': 'conc',\n",
    "                     u'duration (h)': 'timeh'\n",
    "                     },\n",
    "            inplace=True)\n"
   ]
  },
  {
   "cell_type": "code",
   "execution_count": 50,
   "metadata": {},
   "outputs": [
    {
     "data": {
      "text/plain": [
       "1"
      ]
     },
     "execution_count": 50,
     "metadata": {},
     "output_type": "execute_result"
    }
   ],
   "source": [
    "CMP.cmap_affy_raw.find(dict(cel={'$regex':'5500024030700072107994.B01'})).count()"
   ]
  },
  {
   "cell_type": "markdown",
   "metadata": {},
   "source": [
    "## Treatment and controls\n",
    "\n",
    "Go through all the pert/control pairs and find all scans according to the rule by which scans are named"
   ]
  },
  {
   "cell_type": "code",
   "execution_count": 130,
   "metadata": {},
   "outputs": [],
   "source": [
    "def skipNAKV(X): \n",
    "    return {k:v for k,v in X.iteritems() if v and v==v}\n",
    "\n",
    "def getControlScanIds(x,b):\n",
    "    \"\"\"\n",
    "    There are three types of vehicle annotations for each perturbation obtained by \n",
    "    processing the vehicle scan ids:\n",
    "    a) single vehicle scan: splitting by '.' produces just one element \n",
    "    b) multiple scans (wells): splitting by '.' produces list of wells. The scan ids are \n",
    "       formed by removing the well location of the perturbation scan (to get the plate_id?)\n",
    "       and appending each of the well locations given in the vehicle scan ids\n",
    "    c) single vehicle scans: pert=plate_id.well1, veh=plate_id.well2\n",
    "    \n",
    "    \"\"\"\n",
    "    x = x.replace(\"'\",'')\n",
    "    y = x.split('.')\n",
    "    p = b.split('.')[0]\n",
    "    \n",
    "    if y[0]==p and len(y[1])<5:\n",
    "        return [x]\n",
    "    elif len(y) > 1:\n",
    "        return [p+'.'+i for i in y if len(i)>0]\n",
    "    else:\n",
    "        return y\n",
    "RES=[]\n",
    "\n",
    "\n",
    "CMap2['perturbation_scan_id']=CMap2.perturbation_scan_id.str.replace(\"'\",\"\")\n",
    "\n",
    "CMP.cmap_trt_info.drop()\n",
    "\n",
    "for X in CMap2[CMap2.perturbation_scan_id.notna()].to_dict('records'):\n",
    "    pert_id = X['perturbation_scan_id']\n",
    "    \n",
    "    CTRL = getControlScanIds(X['vehicle_scan_id4'],pert_id)\n",
    "    n_veh = CMP.cmap_affy_raw.find(dict(scan_id={'$in':CTRL})).count()\n",
    "    n_trt = CMP.cmap_affy_raw.find(dict(scan_id=pert_id)).count()\n",
    "    n_veh_chk=len(CTRL)==n_veh\n",
    "    \n",
    "    RES.append(dict(scan_id=pert_id,n_veh=n_veh,n_trt=n_trt,n_veh_chk=n_veh_chk,\n",
    "                    ctrl_id=X['vehicle_scan_id4'],ctrl_ids=CTRL))\n",
    "    \n",
    "    X.update(dict(pert_id=pert_id,ctrl_ids=CTRL))\n",
    "    CMP.cmap_trt_info.insert_one(X)\n",
    "    \n",
    "    "
   ]
  },
  {
   "cell_type": "code",
   "execution_count": 116,
   "metadata": {},
   "outputs": [
    {
     "data": {
      "text/plain": [
       "True"
      ]
     },
     "execution_count": 116,
     "metadata": {},
     "output_type": "execute_result"
    }
   ],
   "source": [
    "len(RES)==CMap2[CMap2.perturbation_scan_id.notna()].shape[0]"
   ]
  },
  {
   "cell_type": "code",
   "execution_count": 7,
   "metadata": {},
   "outputs": [
    {
     "data": {
      "text/plain": [
       "1792"
      ]
     },
     "execution_count": 7,
     "metadata": {},
     "output_type": "execute_result"
    }
   ],
   "source": [
    "CMP.cmap_fc.count()"
   ]
  },
  {
   "cell_type": "code",
   "execution_count": null,
   "metadata": {},
   "outputs": [],
   "source": []
  }
 ],
 "metadata": {
  "kernelspec": {
   "display_name": "Python 2",
   "language": "python",
   "name": "python2"
  },
  "language_info": {
   "codemirror_mode": {
    "name": "ipython",
    "version": 2
   },
   "file_extension": ".py",
   "mimetype": "text/x-python",
   "name": "python",
   "nbconvert_exporter": "python",
   "pygments_lexer": "ipython2",
   "version": "2.7.14"
  }
 },
 "nbformat": 4,
 "nbformat_minor": 2
}
