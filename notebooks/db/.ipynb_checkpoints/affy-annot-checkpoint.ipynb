{
 "cells": [
  {
   "cell_type": "code",
   "execution_count": null,
   "metadata": {},
   "outputs": [],
   "source": []
  },
  {
   "cell_type": "code",
   "execution_count": null,
   "metadata": {},
   "outputs": [],
   "source": [
    "\n",
    "# loading probe information\n",
    "# Use Bioconductor annotation packages \n",
    "\n",
    "# Array annotation\n",
    "import sqlite3\n",
    "import pandas as pd\n",
    "\n",
    "db2 = sqlite3.connect('/usr/local/anaconda2/lib/R/library/hgu133a.db/extdata/hgu133a.sqlite')\n",
    "cur2= db2.cursor()\n",
    "cur2.execute('SELECT * FROM sqlite_master')\n",
    "print \"\\n\".join([i[1] for i in cur2.fetchall() if i[0]=='table'])\n",
    "\n",
    "\n",
    "cur2.execute(\"PRAGMA table_info('accessions')\")\n",
    "Cols = [i[1] for i in cur2.fetchall()]\n",
    "cur2.execute('select * from accessions')\n",
    "HGU133p2_acc = pd.DataFrame(cur2.fetchall(),columns=Cols)\n",
    "\n",
    "cur2.execute(\"PRAGMA table_info('probes')\")\n",
    "Cols = [i[1] for i in cur2.fetchall()]\n",
    "cur2.execute('select * from probes')\n",
    "HGU133p2_prb = pd.DataFrame(cur2.fetchall(),columns=Cols)\n",
    "HGU133p2_prb = pd.merge(HGU133p2_prb,HGU133p2_acc,left_on='probe_id',right_on='probe_id')\n",
    "\n",
    "# Human gene information\n",
    "\n",
    "db3 = sqlite3.connect('/usr/local/anaconda2/lib/R/library/org.Hs.eg.db/extdata/org.Hs.eg.sqlite')\n",
    "cur3= db3.cursor()\n",
    "\n",
    "cur3.execute(\"PRAGMA table_info('genes')\")\n",
    "Cols = [i[1] for i in cur3.fetchall()]\n",
    "cur3.execute('select * from genes')\n",
    "Hs_genes = pd.DataFrame(cur3.fetchall(),columns=Cols)\n",
    "Hs_genes.set_index('_id',inplace=True)\n",
    "cur3.execute(\"PRAGMA table_info('gene_info')\")\n",
    "Cols = [i[1] for i in cur3.fetchall()]\n",
    "cur3.execute('select * from gene_info')\n",
    "Hs_ginfo = pd.DataFrame(cur3.fetchall(),columns=Cols)\n",
    "Hs_ginfo.set_index('_id',inplace=True)\n",
    "Hs_ginfo = pd.merge(Hs_ginfo,Hs_genes,left_index=True,right_index=True)\n",
    "#Hs_ginfo[['gene_id']] = Hs_ginfo[['gene_id']].astype(np.int)\n",
    "#Hs_ginfo.set_index('gene_id',inplace=True)\n",
    "# Merge probes and genes\n",
    "HGU133p2_prb = pd.merge(HGU133p2_prb,Hs_ginfo,left_on='gene_id',right_on='gene_id')\n"
   ]
  }
 ],
 "metadata": {
  "kernelspec": {
   "display_name": "Python 2",
   "language": "python",
   "name": "python2"
  },
  "language_info": {
   "codemirror_mode": {
    "name": "ipython",
    "version": 2
   },
   "file_extension": ".py",
   "mimetype": "text/x-python",
   "name": "python",
   "nbconvert_exporter": "python",
   "pygments_lexer": "ipython2",
   "version": "2.7.14"
  }
 },
 "nbformat": 4,
 "nbformat_minor": 2
}
