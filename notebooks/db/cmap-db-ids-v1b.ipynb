{
 "cells": [
  {
   "cell_type": "code",
   "execution_count": 3,
   "metadata": {},
   "outputs": [
    {
     "name": "stdout",
     "output_type": "stream",
     "text": [
      "The autoreload extension is already loaded. To reload it, use:\n",
      "  %reload_ext autoreload\n",
      "Populating the interactive namespace from numpy and matplotlib\n"
     ]
    }
   ],
   "source": [
    "# %load ../env.py\n",
    "%load_ext autoreload\n",
    "%autoreload 2\n",
    "%pylab inline\n",
    "%matplotlib inline\n",
    "#%load_ext rpy2.ipython\n",
    "\n",
    "import matplotlib.text as text\n",
    "import pandas as pd\n",
    "import numpy as np\n",
    "import pylab as pl\n",
    "import scipy as sp\n",
    "import sys\n",
    "import rpy2 \n",
    "import os \n",
    "from sklearn.metrics.pairwise import euclidean_distances,manhattan_distances,cosine_similarity\n",
    "\n",
    "#Set environment variables\n",
    "\n",
    "\n",
    "# Set up the local source files\n",
    "#TOP = os.getcwd().replace('notebooks','')\n",
    "TOP = \"/share/home/ishah/ipynb/chiron/Camda18/\"\n",
    "\n",
    "LIB = TOP+'lib'\n",
    "if not LIB in sys.path: \n",
    "    sys.path.insert(0,LIB)\n",
    "\n",
    "os.environ['PYTHONPATH']=LIB\n",
    "\n",
    "\n",
    "DAT_DIR = TOP + '/data/'\n",
    "FIG_DIR = TOP + '/figs/'\n",
    "\n",
    "CMAP_DIR= '/share/home/ishah/projects/HTTR/data/'\n",
    "\n",
    "\n",
    "from db.mongo import *\n",
    "#DB=openMongo(db='httr_ph1',host='pb.epa.gov')\n",
    "#DB1=openMongo(db='httr_v1',host='pb.epa.gov')\n",
    "MSG=openMongo(db='msigdb_v6',host='pb.epa.gov')\n",
    "CMP=openMongo(db='cmap_v2',host='pb.epa.gov')\n",
    "#from gexp.deseq2 import *\n",
    "pd.options.display.max_colwidth = 500\n"
   ]
  },
  {
   "cell_type": "markdown",
   "metadata": {},
   "source": [
    "# Goal\n",
    "\n",
    "Match the cmap celfile identifiers to the chemicals"
   ]
  },
  {
   "cell_type": "code",
   "execution_count": 7,
   "metadata": {},
   "outputs": [
    {
     "data": {
      "text/plain": [
       "[u'mcf7_cmap_tgt_v1b',\n",
       " u'mcf7_v2a',\n",
       " u'chembl_activity',\n",
       " u'cmap1',\n",
       " u'mcf7_v2a_0',\n",
       " u'gene_corr',\n",
       " u'chembl_mech',\n",
       " u'genes1',\n",
       " u'mcf7_cmap_tgt_v1a',\n",
       " u'mcf7_wf_v2',\n",
       " u'cmap_mcf7_v1',\n",
       " u'gene_freq',\n",
       " u'cmap_tgt_new',\n",
       " u'mcf7_v1a',\n",
       " u'mcf7_v2b',\n",
       " u'chembl_mol',\n",
       " u'mcf7_v1b',\n",
       " u'mcf7_cmap_tgt_v2a',\n",
       " u'cmap_tgt_b',\n",
       " u'mcf7_wf_v1',\n",
       " u'mcf7_cmap_tgt_v2b',\n",
       " u'cmap_tgt_a',\n",
       " u'mcf7_v1a_ref']"
      ]
     },
     "execution_count": 7,
     "metadata": {},
     "output_type": "execute_result"
    }
   ],
   "source": [
    "CMP.collection_names()"
   ]
  },
  {
   "cell_type": "markdown",
   "metadata": {},
   "source": [
    "## CAMDA\n",
    "\n",
    "Load the provided file and annoations"
   ]
  },
  {
   "cell_type": "code",
   "execution_count": 33,
   "metadata": {},
   "outputs": [],
   "source": [
    "CAMDA0 = pd.read_excel(DAT_DIR+'CAMDA_Challange_dataset_filenames.xlsx',skiprows=2)"
   ]
  },
  {
   "cell_type": "code",
   "execution_count": 86,
   "metadata": {},
   "outputs": [
    {
     "name": "stderr",
     "output_type": "stream",
     "text": [
      "/opt/miniconda2/lib/python2.7/site-packages/ipykernel_launcher.py:6: SettingWithCopyWarning: \n",
      "A value is trying to be set on a copy of a slice from a DataFrame.\n",
      "Try using .loc[row_indexer,col_indexer] = value instead\n",
      "\n",
      "See the caveats in the documentation: http://pandas.pydata.org/pandas-docs/stable/indexing.html#indexing-view-versus-copy\n",
      "  \n"
     ]
    }
   ],
   "source": [
    "D_mcf7 = CAMDA0.iloc[:,:5]\n",
    "D_mcf7.columns=['s_id','data_type','tox','perturbation_scan_id','vehicle_scan_ids']\n",
    "D_mcf7['cell']='MCF7'\n",
    "D_pc3  = CAMDA0.iloc[:,[0,1,2,5,6]]\n",
    "D_pc3.columns=['s_id','data_type','tox','perturbation_scan_id','vehicle_scan_ids']\n",
    "D_pc3['cell']='PC3'\n",
    "\n",
    "CAMDA1 = pd.concat((D_mcf7,D_pc3))"
   ]
  },
  {
   "cell_type": "markdown",
   "metadata": {},
   "source": [
    "## Link with CMAP instances"
   ]
  },
  {
   "cell_type": "code",
   "execution_count": 35,
   "metadata": {},
   "outputs": [],
   "source": [
    "CMap2 = pd.read_excel(DAT_DIR+'cmap_instances_02.xls')"
   ]
  },
  {
   "cell_type": "code",
   "execution_count": 37,
   "metadata": {},
   "outputs": [],
   "source": [
    "def format_e(n):\n",
    "    a = '%e' % n\n",
    "    return a.split('e')[0].rstrip('0').rstrip('.') + 'e' + a.split('e')[1]"
   ]
  },
  {
   "cell_type": "code",
   "execution_count": 38,
   "metadata": {},
   "outputs": [],
   "source": [
    "#CAMDA2 = CAMDA1.merge(CMap2[['perturbation_scan_id','instance_id','cmap_name','concentration (M)', u'duration (h)']],\n",
    "#                      left_on='perturbation_scan_id',right_on='perturbation_scan_id')\\\n",
    "#        .rename(columns={'concentration (M)':'conc','duration (h)':'timeh'})\n",
    "#Conc2=CAMDA2.conc.apply(format_e)\n",
    "#CAMDA2['concs']=Conc2.astype(np.str)\n",
    "#CAMDA2['camda_trt_id']=[\"%(cmap_name)s_%(cell)s_%(concs)s_%(timeh)i\"%i for i in CAMDA2.to_dict('records')]"
   ]
  },
  {
   "cell_type": "code",
   "execution_count": 87,
   "metadata": {},
   "outputs": [],
   "source": [
    "CAMDA1['perturbation_scan_id']=CAMDA2.perturbation_scan_id.str.replace(\"'\",\"\")"
   ]
  },
  {
   "cell_type": "markdown",
   "metadata": {},
   "source": [
    "## Link with CMAP scans"
   ]
  },
  {
   "cell_type": "code",
   "execution_count": 75,
   "metadata": {},
   "outputs": [],
   "source": [
    "CMap2_db=pd.DataFrame(list(CMP.cmap_trt_info.find(dict(cell={'$in':['PC3','MCF7']}),\n",
    "                                          dict(_id=0,pert_id=1,name=1,conc=1,timeh=1))))\\\n",
    "         .drop_duplicates()\n",
    "            "
   ]
  },
  {
   "cell_type": "code",
   "execution_count": 88,
   "metadata": {},
   "outputs": [],
   "source": [
    "CAMDA2 = CAMDA1.merge(CMap2_db,left_on='perturbation_scan_id',right_on='pert_id',how='left')"
   ]
  },
  {
   "cell_type": "code",
   "execution_count": 1,
   "metadata": {},
   "outputs": [
    {
     "ename": "NameError",
     "evalue": "name 'CAMDA2' is not defined",
     "output_type": "error",
     "traceback": [
      "\u001b[0;31m---------------------------------------------------------------------------\u001b[0m",
      "\u001b[0;31mNameError\u001b[0m                                 Traceback (most recent call last)",
      "\u001b[0;32m<ipython-input-1-3d2fb84c4a9b>\u001b[0m in \u001b[0;36m<module>\u001b[0;34m()\u001b[0m\n\u001b[0;32m----> 1\u001b[0;31m \u001b[0mCAMDA2\u001b[0m\u001b[0;34m.\u001b[0m\u001b[0mhead\u001b[0m\u001b[0;34m(\u001b[0m\u001b[0;34m)\u001b[0m\u001b[0;34m\u001b[0m\u001b[0m\n\u001b[0m",
      "\u001b[0;31mNameError\u001b[0m: name 'CAMDA2' is not defined"
     ]
    }
   ],
   "source": [
    "CAMDA2.head()"
   ]
  },
  {
   "cell_type": "code",
   "execution_count": null,
   "metadata": {},
   "outputs": [],
   "source": []
  }
 ],
 "metadata": {
  "kernelspec": {
   "display_name": "Python 2",
   "language": "python",
   "name": "python2"
  },
  "language_info": {
   "codemirror_mode": {
    "name": "ipython",
    "version": 2
   },
   "file_extension": ".py",
   "mimetype": "text/x-python",
   "name": "python",
   "nbconvert_exporter": "python",
   "pygments_lexer": "ipython2",
   "version": "2.7.14"
  }
 },
 "nbformat": 4,
 "nbformat_minor": 2
}
