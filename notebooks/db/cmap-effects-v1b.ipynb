{
 "cells": [
  {
   "cell_type": "code",
   "execution_count": 1,
   "metadata": {},
   "outputs": [
    {
     "name": "stdout",
     "output_type": "stream",
     "text": [
      "Populating the interactive namespace from numpy and matplotlib\n"
     ]
    }
   ],
   "source": [
    "# %load ../kiwi.py\n",
    "# %load ../env.py\n",
    "%load_ext autoreload\n",
    "%autoreload 2\n",
    "%pylab inline\n",
    "%matplotlib inline\n",
    "#%load_ext rpy2.ipython\n",
    "\n",
    "import matplotlib.text as text\n",
    "import pandas as pd\n",
    "import numpy as np\n",
    "import pylab as pl\n",
    "import scipy as sp\n",
    "import sys\n",
    "import rpy2 \n",
    "from rpy2.robjects import r, pandas2ri\n",
    "import os \n",
    "from sklearn.metrics.pairwise import euclidean_distances,manhattan_distances,cosine_similarity\n",
    "\n",
    "#Set environment variables\n",
    "\n",
    "\n",
    "# Set up the local source files\n",
    "#TOP = os.getcwd().replace('notebooks','')\n",
    "TOP = \"/home/ishah/ipynb/Camda18/\"\n",
    "\n",
    "LIB = TOP+'lib'\n",
    "if not LIB in sys.path: \n",
    "    sys.path.insert(0,LIB)\n",
    "\n",
    "os.environ['PYTHONPATH']=LIB\n",
    "\n",
    "\n",
    "DAT_DIR = TOP + '/data/'\n",
    "FIG_DIR = TOP + '/figs/'\n",
    "\n",
    "CMAP_DIR= '/share/home/ishah/projects/HTTR/data/'\n",
    "CMAP_DAT= '/mnt/data/CMap/CMap2.0/CEL1/'\n",
    "\n",
    "from db.mongo import *\n",
    "#DB=openMongo(db='httr_ph1',host='pb.epa.gov')\n",
    "#DB1=openMongo(db='httr_v1',host='pb.epa.gov')\n",
    "#MSG=openMongo(db='msigdb_v6',host='pb.epa.gov')\n",
    "CMP=openMongo(db='cmap_v2',host='localhost')\n",
    "#CMP = pymongo.MongoClient(\"mongodb://localhost/cmap_v2\")['cmap_v2']\n",
    "#from gexp.deseq2 import *\n",
    "pd.options.display.max_colwidth = 500\n"
   ]
  },
  {
   "cell_type": "code",
   "execution_count": 5,
   "metadata": {},
   "outputs": [
    {
     "name": "stdout",
     "output_type": "stream",
     "text": [
      "The rpy2.ipython extension is already loaded. To reload it, use:\n",
      "  %reload_ext rpy2.ipython\n"
     ]
    }
   ],
   "source": [
    "%load_ext rpy2.ipython"
   ]
  },
  {
   "cell_type": "code",
   "execution_count": 14,
   "metadata": {},
   "outputs": [],
   "source": [
    "#%%R\n",
    "#library(hgu133a.db)"
   ]
  },
  {
   "cell_type": "markdown",
   "metadata": {},
   "source": [
    "# Goal \n",
    "\n",
    "Calculate the perturbations for each treatment and consider each treatment separately. For each pert_id\n",
    "\n",
    "* Build DF with trt and controls\n",
    "* Calcuate FC, Amplitude\n",
    "* Consider/exclude outliers\n",
    "\n",
    "\n"
   ]
  },
  {
   "cell_type": "markdown",
   "metadata": {},
   "source": [
    "## Get Treatments and controls"
   ]
  },
  {
   "cell_type": "code",
   "execution_count": 9,
   "metadata": {},
   "outputs": [
    {
     "data": {
      "text/plain": [
       "[u'cmap_trt_info',\n",
       " u'chembl_mol',\n",
       " u'chembl_activity',\n",
       " u'cmap1',\n",
       " u'cmap_tgt_b',\n",
       " u'gene_corr',\n",
       " u'chembl_mech',\n",
       " u'genes1',\n",
       " u'gene_freq',\n",
       " u'cmap_tgt_a',\n",
       " u'cmap_tgt_new',\n",
       " u'cmap_affy_raw',\n",
       " u'cmap_fc']"
      ]
     },
     "execution_count": 9,
     "metadata": {},
     "output_type": "execute_result"
    }
   ],
   "source": [
    "CMP.collection_names()"
   ]
  },
  {
   "cell_type": "code",
   "execution_count": null,
   "metadata": {},
   "outputs": [],
   "source": [
    "K = [u'instance_id',u'scanner', u'name',\n",
    "     u'gexp_array','cell',\n",
    "     'pert_id','conc','timeh']\n",
    "\n",
    "CMP.cmap_fc.drop()\n",
    "\n",
    "for P in CMP.cmap_trt_info.find(no_cursor_timeout=True):\n",
    "    P_scans = []\n",
    "    ScIDs=[P['pert_id']]+P['ctrl_ids']\n",
    "    \n",
    "    for X in CMP.cmap_affy_raw.find(dict(scan_id={'$in':ScIDs}),\n",
    "                                    dict(_id=0,scan_id=1,probe_levels=1)):\n",
    "        Y = X.pop('probe_levels')\n",
    "        X.update(Y)\n",
    "        X['trt']= 1 if X['scan_id']==P['pert_id'] else 0\n",
    "        \n",
    "        P_scans.append(X)\n",
    "    DF = pd.DataFrame(P_scans).set_index(['trt']).drop('scan_id',axis=1)\n",
    "    \n",
    "    X_chem = DF.query(\"trt==1\")\n",
    "    X_ctrl = DF.query(\"trt==0\").median(axis=0)\n",
    "    L2FC = X_chem-X_ctrl\n",
    "    \n",
    "    Y = {k:P[k] for k in K}\n",
    "    Y['fc1']=L2FC.iloc[0].to_dict()\n",
    "    \n",
    "    CMP.cmap_fc.insert_one(Y)\n",
    "    "
   ]
  },
  {
   "cell_type": "code",
   "execution_count": 8,
   "metadata": {},
   "outputs": [
    {
     "data": {
      "text/plain": [
       "6100"
      ]
     },
     "execution_count": 8,
     "metadata": {},
     "output_type": "execute_result"
    }
   ],
   "source": [
    "CMP.cmap_fc.count()"
   ]
  },
  {
   "cell_type": "code",
   "execution_count": 24,
   "metadata": {},
   "outputs": [
    {
     "data": {
      "text/plain": [
       "(1, 22284)"
      ]
     },
     "execution_count": 24,
     "metadata": {},
     "output_type": "execute_result"
    }
   ],
   "source": [
    "X_chem.shape"
   ]
  },
  {
   "cell_type": "code",
   "execution_count": 27,
   "metadata": {},
   "outputs": [],
   "source": [
    "def getBounds(X):\n",
    "    q75, q25 = np.percentile(X.dropna(), [75 ,25])\n",
    "    iqr = q75 - q25\n",
    "\n",
    "    return q25 - (iqr*1.5),q75 + (iqr*1.5)\n",
    "\n",
    "def remOutlier(X):\n",
    "    IQR = getBounds(X)\n",
    "    X1 = X[np.logical_or(X<IQR[0],X>IQR[1])]\n",
    "    return X1\n",
    "\n",
    "def meanRemOutlier(X):\n",
    "    return np.mean(remOutlier(X))"
   ]
  },
  {
   "cell_type": "code",
   "execution_count": 30,
   "metadata": {},
   "outputs": [
    {
     "data": {
      "text/plain": [
       "[(7.268106503189644, 7.142139356024288, 7.107853833347347),\n",
       " (nan, 7.531686750799236, 7.49729251545941),\n",
       " (nan, 6.202211517454833, 6.236951386844174),\n",
       " (nan, 7.564305947595896, 7.541432547299573),\n",
       " (nan, 4.14034494677769, 4.116683384206098),\n",
       " (7.251219332413167, 6.941575088923008, 6.89730412230967),\n",
       " (4.917972483154669, 5.060743371499148, 5.073815140039253),\n",
       " (nan, 4.705784150132551, 4.717288880630234),\n",
       " (nan, 9.362550840655175, 9.282272216926222),\n",
       " (nan, 3.4271680144703502, 3.455938657097506),\n",
       " (nan, 6.628762161629034, 6.66758674494729),\n",
       " (nan, 7.479944868006287, 7.420195406611283),\n",
       " (6.648196172783096, 6.62450182122568, 6.598226111236895),\n",
       " (7.631825823424513, 7.80339342415869, 7.822775803408004),\n",
       " (nan, 7.059523521747616, 7.072117758072451),\n",
       " (nan, 7.089580201656561, 7.0659468464785515),\n",
       " (5.866029013562128, 5.767906255519081, 5.748505494296783),\n",
       " (nan, 5.775752036761175, 5.803355332516707),\n",
       " (nan, 8.336601338976283, 8.316478230295408),\n",
       " (nan, 5.8734778380713974, 5.887417314376726)]"
      ]
     },
     "execution_count": 30,
     "metadata": {},
     "output_type": "execute_result"
    }
   ],
   "source": [
    "zip(X_ctrl.iloc[:,:20].apply(meanRemOutlier),\n",
    "    X_ctrl.iloc[:,:20].mean(axis=0),\n",
    "    X_ctrl.iloc[:,:20].median(axis=0),\n",
    "   )"
   ]
  },
  {
   "cell_type": "code",
   "execution_count": null,
   "metadata": {},
   "outputs": [],
   "source": []
  }
 ],
 "metadata": {
  "kernelspec": {
   "display_name": "Python 2",
   "language": "python",
   "name": "python2"
  },
  "language_info": {
   "codemirror_mode": {
    "name": "ipython",
    "version": 2
   },
   "file_extension": ".py",
   "mimetype": "text/x-python",
   "name": "python",
   "nbconvert_exporter": "python",
   "pygments_lexer": "ipython2",
   "version": "2.7.15rc1"
  }
 },
 "nbformat": 4,
 "nbformat_minor": 2
}
