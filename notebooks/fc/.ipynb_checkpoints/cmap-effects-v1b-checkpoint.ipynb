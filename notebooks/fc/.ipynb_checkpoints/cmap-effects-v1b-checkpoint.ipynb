{
 "cells": [
  {
   "cell_type": "code",
   "execution_count": 1,
   "metadata": {},
   "outputs": [
    {
     "name": "stdout",
     "output_type": "stream",
     "text": [
      "Populating the interactive namespace from numpy and matplotlib\n"
     ]
    }
   ],
   "source": [
    "# %load ../kiwi.py\n",
    "# %load ../env.py\n",
    "%load_ext autoreload\n",
    "%autoreload 2\n",
    "%pylab inline\n",
    "%matplotlib inline\n",
    "#%load_ext rpy2.ipython\n",
    "\n",
    "import matplotlib.text as text\n",
    "import pandas as pd\n",
    "import numpy as np\n",
    "import pylab as pl\n",
    "import scipy as sp\n",
    "import sys\n",
    "import rpy2 \n",
    "from rpy2.robjects import r, pandas2ri\n",
    "import os \n",
    "from sklearn.metrics.pairwise import euclidean_distances,manhattan_distances,cosine_similarity\n",
    "\n",
    "#Set environment variables\n",
    "\n",
    "\n",
    "# Set up the local source files\n",
    "#TOP = os.getcwd().replace('notebooks','')\n",
    "TOP = \"/home/ishah/ipynb/Camda18/\"\n",
    "\n",
    "LIB = TOP+'lib'\n",
    "if not LIB in sys.path: \n",
    "    sys.path.insert(0,LIB)\n",
    "\n",
    "os.environ['PYTHONPATH']=LIB\n",
    "\n",
    "\n",
    "DAT_DIR = TOP + '/data/'\n",
    "FIG_DIR = TOP + '/figs/'\n",
    "\n",
    "CMAP_DIR= '/share/home/ishah/projects/HTTR/data/'\n",
    "CMAP_DAT= '/mnt/data/CMap/CMap2.0/CEL1/'\n",
    "\n",
    "from db.mongo import *\n",
    "#DB=openMongo(db='httr_ph1',host='pb.epa.gov')\n",
    "#DB1=openMongo(db='httr_v1',host='pb.epa.gov')\n",
    "#MSG=openMongo(db='msigdb_v6',host='pb.epa.gov')\n",
    "#CMP=openMongo(db='cmap_v2',host='localhost')\n",
    "CMP = pymongo.MongoClient(\"mongodb://localhost/cmap_v2\")['cmap_v2']\n",
    "#from gexp.deseq2 import *\n",
    "pd.options.display.max_colwidth = 500\n"
   ]
  },
  {
   "cell_type": "markdown",
   "metadata": {},
   "source": [
    "# Goal \n",
    "\n",
    "Calculate the perturbations for each treatment and consider each treatment separately. For each pert_id\n",
    "\n",
    "* Build DF with trt and controls\n",
    "* Calcuate FC, Amplitude\n",
    "* Consider/exclude outliers\n",
    "\n",
    "\n"
   ]
  },
  {
   "cell_type": "markdown",
   "metadata": {},
   "source": [
    "## Get Treatments and controls"
   ]
  },
  {
   "cell_type": "code",
   "execution_count": 3,
   "metadata": {},
   "outputs": [
    {
     "data": {
      "text/plain": [
       "[u'cmap_trt_info',\n",
       " u'chembl_mol',\n",
       " u'chembl_activity',\n",
       " u'cmap1',\n",
       " u'cmap_tgt_b',\n",
       " u'gene_corr',\n",
       " u'chembl_mech',\n",
       " u'genes1',\n",
       " u'gene_freq',\n",
       " u'cmap_tgt_a',\n",
       " u'cmap_tgt_new',\n",
       " u'cmap_affy_raw',\n",
       " u'cmap_fc']"
      ]
     },
     "execution_count": 3,
     "metadata": {},
     "output_type": "execute_result"
    }
   ],
   "source": [
    "CMP.collection_names()"
   ]
  },
  {
   "cell_type": "code",
   "execution_count": 4,
   "metadata": {},
   "outputs": [
    {
     "data": {
      "text/plain": [
       "2"
      ]
     },
     "execution_count": 4,
     "metadata": {},
     "output_type": "execute_result"
    }
   ],
   "source": [
    "1+1"
   ]
  },
  {
   "cell_type": "code",
   "execution_count": 6,
   "metadata": {},
   "outputs": [],
   "source": [
    "from gexp.fc import *"
   ]
  },
  {
   "cell_type": "code",
   "execution_count": 10,
   "metadata": {},
   "outputs": [
    {
     "data": {
      "text/plain": [
       "[u'EC2003090503AA',\n",
       " u'EC2003090504AA',\n",
       " u'EC2003090505AA',\n",
       " u'EC2003090506AA',\n",
       " u'EC2003091104AA',\n",
       " u'EC2003091105AA',\n",
       " u'EC2003091106AA',\n",
       " u'EC2003091103AA',\n",
       " u'EC2003092303AA',\n",
       " u'EC2003092304AA']"
      ]
     },
     "execution_count": 10,
     "metadata": {},
     "output_type": "execute_result"
    }
   ],
   "source": [
    "CMP.cmap_trt_info.distinct('pert_id')[:10]"
   ]
  },
  {
   "cell_type": "code",
   "execution_count": 15,
   "metadata": {},
   "outputs": [],
   "source": [
    "CMP.cmap_fc.drop()\n",
    "\n",
    "X = calcStoreFC1('EC2003090503AA',\n",
    "                 dbc_trti=CMP.cmap_trt_info,\n",
    "                 dbc_raw=CMP.cmap_affy_raw,\n",
    "                 dbc_fc =CMP.cmap_fc\n",
    "                )"
   ]
  },
  {
   "cell_type": "code",
   "execution_count": 9,
   "metadata": {},
   "outputs": [
    {
     "data": {
      "text/plain": [
       "<AsyncResult: execute>"
      ]
     },
     "execution_count": 9,
     "metadata": {},
     "output_type": "execute_result"
    }
   ],
   "source": [
    "# %load ../par.py\n",
    "import ipyparallel as PP\n",
    "\n",
    "RC=PP.Client(profile='chiron_parallel')\n",
    "d_view=RC[:]\n",
    "lb_view = RC.load_balanced_view()\n",
    "lb_view.block = True\n",
    "x=file(\"../env.py\",'r').read()\n",
    "d_view.execute(x)\n",
    "\n",
    "\n"
   ]
  },
  {
   "cell_type": "code",
   "execution_count": 10,
   "metadata": {},
   "outputs": [
    {
     "data": {
      "text/plain": [
       "[6100, 6100, 6100, 6100, 6100, 6100, 6100, 6100, 6100, 6100]"
      ]
     },
     "execution_count": 10,
     "metadata": {},
     "output_type": "execute_result"
    }
   ],
   "source": [
    "#d_view.map_sync(lambda i: CMP.cmap_trt_info.count(), range(10))"
   ]
  },
  {
   "cell_type": "code",
   "execution_count": 11,
   "metadata": {},
   "outputs": [
    {
     "name": "stdout",
     "output_type": "stream",
     "text": [
      "Start ...  2018-04-12 12:51:18 tasks =  6100\n",
      "CMP.cmap_fc 6100\n",
      "End  2018-04-12 13:20:57 tasks =  6100\n"
     ]
    }
   ],
   "source": [
    "import datetime\n",
    "from gexp.fc import *\n",
    "\n",
    "CMP.cmap_fc.drop()\n",
    "\n",
    "WORK0 = CMP.cmap_trt_info.distinct('pert_id')\n",
    "\n",
    "print \"Start ... \", datetime.datetime.now().strftime(\"%Y-%m-%d %H:%M:%S\"), \"tasks = \",len(WORK0)\n",
    "\n",
    "lb_view.map(lambda pid: \n",
    "             calcStoreFC1(pid,\n",
    "                 dbc_trti=CMP.cmap_trt_info,\n",
    "                 dbc_raw=CMP.cmap_affy_raw,\n",
    "                 dbc_fc =CMP.cmap_fc\n",
    "                ),\n",
    "            WORK0\n",
    "           )\n",
    "\n",
    "print \"CMP.cmap_fc\", CMP.cmap_fc.count()\n",
    "print \"End \", datetime.datetime.now().strftime(\"%Y-%m-%d %H:%M:%S\"), \"tasks = \",len(WORK0)\n"
   ]
  },
  {
   "cell_type": "code",
   "execution_count": null,
   "metadata": {},
   "outputs": [],
   "source": [
    "K = [u'instance_id',u'scanner', u'name',\n",
    "     u'gexp_array','cell',\n",
    "     'pert_id','conc','timeh']\n",
    "\n",
    "#CMP.cmap_fc.drop()\n",
    "\n",
    "for P in CMP.cmap_trt_info.find(no_cursor_timeout=True):\n",
    "    print P['pert_id']\n",
    "    P_scans = []\n",
    "    ScIDs=[P['pert_id']]+P['ctrl_ids']\n",
    "    \n",
    "    for X in CMP.cmap_affy_raw.find(dict(scan_id={'$in':ScIDs}),\n",
    "                                    dict(_id=0,scan_id=1,probe_levels=1)):\n",
    "        Y = X.pop('probe_levels')\n",
    "        X.update(Y)\n",
    "        X['trt']= 1 if X['scan_id']==P['pert_id'] else 0\n",
    "        \n",
    "        P_scans.append(X)\n",
    "    DF = pd.DataFrame(P_scans).set_index(['trt']).drop('scan_id',axis=1)\n",
    "    \n",
    "    X_chem = DF.query(\"trt==1\")\n",
    "    X_ctrl = DF.query(\"trt==0\").median(axis=0)\n",
    "    L2FC = X_chem-X_ctrl\n",
    "    \n",
    "    Y = {k:P[k] for k in K}\n",
    "    Y['fc1']=L2FC.iloc[0].to_dict()\n",
    "    \n",
    "    CMP.cmap_fc.insert_one(Y)\n",
    "    "
   ]
  },
  {
   "cell_type": "code",
   "execution_count": 8,
   "metadata": {},
   "outputs": [
    {
     "data": {
      "text/plain": [
       "[u'fc1',\n",
       " u'scanner',\n",
       " u'gexp_array',\n",
       " u'instance_id',\n",
       " u'cell',\n",
       " u'pert_id',\n",
       " u'conc',\n",
       " u'timeh',\n",
       " u'_id',\n",
       " u'name']"
      ]
     },
     "execution_count": 8,
     "metadata": {},
     "output_type": "execute_result"
    }
   ],
   "source": [
    "CMP.cmap_fc.find_one().keys()"
   ]
  },
  {
   "cell_type": "code",
   "execution_count": 7,
   "metadata": {},
   "outputs": [
    {
     "data": {
      "text/plain": [
       "6100"
      ]
     },
     "execution_count": 7,
     "metadata": {},
     "output_type": "execute_result"
    }
   ],
   "source": [
    "CMP.cmap_fc.count()"
   ]
  },
  {
   "cell_type": "markdown",
   "metadata": {},
   "source": [
    "## FPs"
   ]
  },
  {
   "cell_type": "code",
   "execution_count": 21,
   "metadata": {},
   "outputs": [
    {
     "name": "stdout",
     "output_type": "stream",
     "text": [
      "100\n",
      "200\n",
      "300\n",
      "400\n",
      "500\n",
      "600\n",
      "700\n",
      "800\n",
      "900\n",
      "1000\n",
      "1100\n",
      "1200\n",
      "1300\n",
      "1400\n",
      "1500\n",
      "1600\n",
      "1700\n",
      "1800\n",
      "1900\n",
      "2000\n",
      "2100\n",
      "2200\n",
      "2300\n",
      "2400\n",
      "2500\n",
      "2600\n",
      "2700\n",
      "2800\n",
      "2900\n",
      "3000\n",
      "3100\n",
      "3200\n",
      "3300\n",
      "3400\n",
      "3500\n",
      "3600\n",
      "3700\n",
      "3800\n",
      "3900\n",
      "4000\n",
      "4100\n",
      "4200\n",
      "4300\n",
      "4400\n",
      "4500\n",
      "4600\n",
      "4700\n",
      "4800\n",
      "4900\n",
      "5000\n",
      "5100\n",
      "5200\n",
      "5300\n",
      "5400\n",
      "5500\n",
      "5600\n",
      "5700\n",
      "5800\n",
      "5900\n",
      "6000\n",
      "6100\n"
     ]
    }
   ],
   "source": [
    "\n",
    "CMP.cmap_fp.drop()\n",
    "trt_fmt = \"%(cell)s-%(name)s-%(timeh)dh-%(conc)sM\"\n",
    "ii=0\n",
    "for X in CMP.cmap_fc.find({},dict(_id=0)):\n",
    "    ii+=1\n",
    "    trt_str = trt_fmt % X\n",
    "    FC = pd.Series(X.pop('fc1'))\n",
    "    AFX=[i for i in FC.index if i.startswith('AFFX')]\n",
    "    FC = FC.drop(AFX)\n",
    "    Z = (FC-FC.mean())/FC.std()\n",
    "    \n",
    "    FP = {}\n",
    "    for z0 in [1,2,3]:\n",
    "        Up = list(Z[Z>=z0].index)\n",
    "        Dn = list(Z[Z<=-z0].index)\n",
    "        Ch = list(set(Up+Dn))\n",
    "        fp = 'fp_z%d' % z0\n",
    "        FP[fp]= dict(ch=dict(ds=Ch,n=len(Ch)),\n",
    "                      up=dict(ds=Up,n=len(Up)),\n",
    "                      dn=dict(ds=Dn,n=len(Dn))\n",
    "                     )\n",
    "\n",
    "    X['fp']=FP\n",
    "    X['trt_id']=trt_str\n",
    "    CMP.cmap_fp.insert_one(X)\n",
    "    #FC1 = FC[FC.abs()>0.5]\n",
    "    #Z2 = (FC1-FC1.mean())/FC1.std()\n",
    "    if ii % 100 ==0: print(\"%i\" % ii)"
   ]
  },
  {
   "cell_type": "code",
   "execution_count": 37,
   "metadata": {},
   "outputs": [
    {
     "data": {
      "text/plain": [
       "Index([], dtype='object')"
      ]
     },
     "execution_count": 37,
     "metadata": {},
     "output_type": "execute_result"
    }
   ],
   "source": [
    "FC.index.intersection(AFX)"
   ]
  },
  {
   "cell_type": "code",
   "execution_count": 34,
   "metadata": {},
   "outputs": [
    {
     "data": {
      "text/plain": [
       "(array([5.000e+00, 2.500e+01, 8.200e+01, 2.780e+02, 6.510e+02, 1.420e+03,\n",
       "        2.329e+03, 3.217e+03, 4.167e+03, 4.320e+03, 3.342e+03, 1.670e+03,\n",
       "        5.470e+02, 1.300e+02, 2.100e+01, 6.000e+00, 1.000e+00, 1.000e+00,\n",
       "        1.000e+00, 2.000e+00]),\n",
       " array([-1.91438969, -1.69441965, -1.47444961, -1.25447957, -1.03450953,\n",
       "        -0.81453949, -0.59456945, -0.37459941, -0.15462937,  0.06534067,\n",
       "         0.28531071,  0.50528075,  0.72525079,  0.94522083,  1.16519087,\n",
       "         1.38516091,  1.60513095,  1.82510099,  2.04507104,  2.26504108,\n",
       "         2.48501112]),\n",
       " <a list of 20 Patch objects>)"
      ]
     },
     "execution_count": 34,
     "metadata": {},
     "output_type": "execute_result"
    },
    {
     "data": {
      "image/png": "[encoded data removed]",
      "text/plain": [
       "<matplotlib.figure.Figure at 0x7f1e081dbfd0>"
      ]
     },
     "metadata": {},
     "output_type": "display_data"
    }
   ],
   "source": [
    "AFX=[i for i in FC.index if i.startswith('AFFX')]\n",
    "\n",
    "\n",
    "fig = pl.figure(figsize=(10,5))\n",
    "pl.style.use('dark_background')\n",
    "ax = pl.subplot(1,2,1)\n",
    "ax.hist(FC[AFX],20,rwidth=0.9)\n",
    "ax = pl.subplot(1,2,2)\n",
    "ax.hist(FC.drop(AFX),20,rwidth=0.9)"
   ]
  },
  {
   "cell_type": "code",
   "execution_count": 17,
   "metadata": {},
   "outputs": [
    {
     "data": {
      "text/plain": [
       "<matplotlib.text.Text at 0x7f1e0885c710>"
      ]
     },
     "execution_count": 17,
     "metadata": {},
     "output_type": "execute_result"
    },
    {
     "data": {
      "image/png": "[encoded data removed]",
      "text/plain": [
       "<matplotlib.figure.Figure at 0x7f1e006b7190>"
      ]
     },
     "metadata": {},
     "output_type": "display_data"
    }
   ],
   "source": [
    "Z1 = Z\n",
    "fig = pl.figure(figsize=(10,5))\n",
    "pl.style.use('dark_background')\n",
    "\n",
    "ax = pl.subplot(2,2,1)\n",
    "x=ax.hist(FC,rwidth=0.9,color='grey',alpha=0.5)\n",
    "ax.set_title('FC')\n",
    "\n",
    "ax = pl.subplot(2,2,2)\n",
    "x=ax.hist(Z1,rwidth=0.9,color='grey',alpha=0.5)\n",
    "ax.set_title('Z')\n",
    "\n",
    "ax = pl.subplot(2,2,3)\n",
    "x=ax.hist(FC1,rwidth=0.9,color='grey',alpha=0.5)\n",
    "ax.set_title('FC1')\n",
    "\n",
    "ax = pl.subplot(2,2,4)\n",
    "x=ax.hist(Z2,rwidth=0.9,color='grey',alpha=0.5)\n",
    "ax.set_title('Z')\n",
    "\n",
    "\n"
   ]
  },
  {
   "cell_type": "code",
   "execution_count": null,
   "metadata": {},
   "outputs": [],
   "source": []
  },
  {
   "cell_type": "code",
   "execution_count": null,
   "metadata": {},
   "outputs": [],
   "source": []
  }
 ],
 "metadata": {
  "kernelspec": {
   "display_name": "Python 2",
   "language": "python",
   "name": "python2"
  },
  "language_info": {
   "codemirror_mode": {
    "name": "ipython",
    "version": 2
   },
   "file_extension": ".py",
   "mimetype": "text/x-python",
   "name": "python",
   "nbconvert_exporter": "python",
   "pygments_lexer": "ipython2",
   "version": "2.7.14"
  }
 },
 "nbformat": 4,
 "nbformat_minor": 2
}
